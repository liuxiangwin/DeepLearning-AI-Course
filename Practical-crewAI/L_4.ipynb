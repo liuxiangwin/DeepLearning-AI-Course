{
 "cells": [
  {
   "cell_type": "markdown",
   "id": "bae53a09-c04c-4916-a146-00e0bb188954",
   "metadata": {},
   "source": [
    "# L4: Support Data Insight Analysis"
   ]
  },
  {
   "cell_type": "markdown",
   "id": "fd08797e-0262-47f6-a5ba-0f933b06b06a",
   "metadata": {},
   "source": [
    "<p style=\"background-color:#fff6e4; padding:15px; border-width:3px; border-color:#f5ecda; border-style:solid; border-radius:6px\"> ⏳ <b>Note <code>(Kernel Starting)</code>:</b> This notebook takes about 30 seconds to be ready to use. You may start and watch the video while you wait.</p>"
   ]
  },
  {
   "cell_type": "markdown",
   "id": "cc6c1339-5278-4daf-8e97-04c280bde548",
   "metadata": {},
   "source": [
    "## Initial Imports"
   ]
  },
  {
   "cell_type": "code",
   "execution_count": 1,
   "id": "97c39b1b-1dd2-4f1c-94e8-b94a92649455",
   "metadata": {},
   "outputs": [],
   "source": [
    "__import__('pysqlite3')\n",
    "import sys\n",
    "sys.modules['sqlite3'] = sys.modules.pop('pysqlite3')\n"
   ]
  },
  {
   "cell_type": "code",
   "execution_count": 2,
   "id": "41d1ce58-9d2e-4349-acbd-49227e37d31c",
   "metadata": {
    "height": 200
   },
   "outputs": [],
   "source": [
    "# Warning control\n",
    "import warnings\n",
    "warnings.filterwarnings('ignore')\n",
    "\n",
    "# Load environment variables\n",
    "from helper import load_env\n",
    "load_env()\n",
    "\n",
    "import os\n",
    "import yaml\n",
    "from crewai import Agent, Task, Crew,LLM"
   ]
  },
  {
   "cell_type": "markdown",
   "id": "7f583209-37a0-41a6-b5e8-3eee9c7127b6",
   "metadata": {},
   "source": [
    "<p style=\"background-color:#fff6ff; padding:15px; border-width:3px; border-color:#efe6ef; border-style:solid; border-radius:6px\"> 💻 &nbsp; <b>Access <code>requirements.txt</code> and <code>helper.py</code> files:</b> 1) click on the <em>\"File\"</em> option on the top menu of the notebook and then 2) click on <em>\"Open\"</em>. For more help, please see the <em>\"Appendix - Tips and Help\"</em> Lesson.</p>"
   ]
  },
  {
   "cell_type": "markdown",
   "id": "fe1b574a-502a-49ec-9dc4-1e4e32754986",
   "metadata": {},
   "source": [
    "## Loading Tasks and Agents YAML files"
   ]
  },
  {
   "cell_type": "code",
   "execution_count": 3,
   "id": "29b0c411-a512-458a-8130-200565dbc3b3",
   "metadata": {},
   "outputs": [],
   "source": [
    "INFERENCE_SERVER_URL = \"http://localhost:8989\"\n",
    "MODEL_NAME = \"ibm-granite/granite-3.3-2b-instruct\"\n",
    "API_KEY= \"alanliuxiang\"\n",
    "\n",
    "\n",
    "llm = LLM(model=\"ibm-granite/granite-3.3-2b-instruct\", \n",
    "          base_url=f\"{INFERENCE_SERVER_URL}/v1\",\n",
    "          api_key=API_KEY,\n",
    "          custom_llm_provider =\"openai\",\n",
    "          max_tokens=1024)"
   ]
  },
  {
   "cell_type": "code",
   "execution_count": 4,
   "id": "0f171b23-b3cc-48c9-a8ba-07358e271e63",
   "metadata": {
    "height": 268
   },
   "outputs": [],
   "source": [
    "# Define file paths for YAML configurations\n",
    "files = {\n",
    "    'agents': 'L4-config/agents.yaml',\n",
    "    'tasks': 'L4-config/tasks.yaml'\n",
    "}\n",
    "\n",
    "# Load configurations from YAML files\n",
    "configs = {}\n",
    "for config_type, file_path in files.items():\n",
    "    with open(file_path, 'r') as file:\n",
    "        configs[config_type] = yaml.safe_load(file)\n",
    "\n",
    "# Assign loaded configurations to specific variables\n",
    "agents_config = configs['agents']\n",
    "tasks_config = configs['tasks']"
   ]
  },
  {
   "cell_type": "markdown",
   "id": "27064ec0-4a12-4dbd-b9b2-c77d4aaaedb5",
   "metadata": {},
   "source": [
    "## Using FileReadTool"
   ]
  },
  {
   "cell_type": "code",
   "execution_count": 5,
   "id": "f58e827a-8e2e-4f1d-8f8c-9486828f951d",
   "metadata": {
    "height": 47
   },
   "outputs": [
    {
     "name": "stderr",
     "output_type": "stream",
     "text": [
      "/opt/app-root/lib64/python3.11/site-packages/pydantic/fields.py:1093: PydanticDeprecatedSince20: Using extra keyword arguments on `Field` is deprecated and will be removed. Use `json_schema_extra` instead. (Extra keys: 'required'). Deprecated in Pydantic V2.0 to be removed in V3.0. See Pydantic V2 Migration Guide at https://errors.pydantic.dev/2.11/migration/\n",
      "  warn(\n"
     ]
    }
   ],
   "source": [
    "from crewai_tools import FileReadTool\n",
    "csv_tool = FileReadTool(file_path='./support_tickets_data.csv')"
   ]
  },
  {
   "cell_type": "markdown",
   "id": "7dc509e7-5aae-4795-a5f1-822cd5bfaefa",
   "metadata": {},
   "source": [
    "## Creating Agents, Tasks and Crew"
   ]
  },
  {
   "cell_type": "code",
   "execution_count": 6,
   "id": "33d2c719-9823-4d12-bd87-219f5145f7dc",
   "metadata": {
    "height": 948
   },
   "outputs": [
    {
     "name": "stdout",
     "output_type": "stream",
     "text": [
      "\n",
      "\n",
      "\n",
      "\n",
      "\n",
      "\n",
      "\n",
      "\n",
      "\n",
      "\n",
      "\n",
      "\n",
      "\n",
      "\n",
      "\n",
      "\n",
      "\n",
      "\n"
     ]
    }
   ],
   "source": [
    "from crewai_tools import CodeInterpreterTool\n",
    "# Creating Agents\n",
    "suggestion_generation_agent = Agent(\n",
    "  config=agents_config['suggestion_generation_agent'],\n",
    "  llm=llm,\n",
    "  tools=[csv_tool]\n",
    ")\n",
    "\n",
    "reporting_agent = Agent(\n",
    "  config=agents_config['reporting_agent'],\n",
    "  llm=llm,\n",
    "  tools=[csv_tool]\n",
    ")\n",
    "\n",
    "chart_generation_agent = Agent(\n",
    "  config=agents_config['chart_generation_agent'],\n",
    "  tools=[CodeInterpreterTool(unsafe_mode=True)],\n",
    "  llm=llm,\n",
    "  # allow_code_execution=True,\n",
    "  code_execution_mode=\"unsafe\",\n",
    ")\n",
    "\n",
    "# Creating Tasks\n",
    "suggestion_generation = Task(\n",
    "  config=tasks_config['suggestion_generation'],\n",
    "  agent=suggestion_generation_agent\n",
    ")\n",
    "\n",
    "table_generation = Task(\n",
    "  config=tasks_config['table_generation'],\n",
    "  agent=reporting_agent\n",
    ")\n",
    "\n",
    "chart_generation = Task(\n",
    "  config=tasks_config['chart_generation'],\n",
    "  agent=chart_generation_agent\n",
    ")\n",
    "\n",
    "final_report_assembly = Task(\n",
    "  config=tasks_config['final_report_assembly'],\n",
    "  agent=reporting_agent,\n",
    "  context=[suggestion_generation, table_generation, chart_generation]\n",
    ")\n",
    "\n",
    "\n",
    "# Creating Crew\n",
    "support_report_crew = Crew(\n",
    "  agents=[\n",
    "    suggestion_generation_agent,\n",
    "    reporting_agent,\n",
    "    chart_generation_agent\n",
    "  ],\n",
    "  tasks=[\n",
    "    suggestion_generation,\n",
    "    table_generation,\n",
    "    chart_generation,\n",
    "    final_report_assembly\n",
    "  ],\n",
    "  verbose=True\n",
    ")\n"
   ]
  },
  {
   "cell_type": "markdown",
   "id": "299bca36-395b-45f2-92e7-27b403e32a27",
   "metadata": {},
   "source": [
    "## Testing our Crew"
   ]
  },
  {
   "cell_type": "code",
   "execution_count": 7,
   "id": "b6646acc-e280-44cc-8968-08db37115eba",
   "metadata": {
    "height": 30
   },
   "outputs": [
    {
     "ename": "TypeError",
     "evalue": "Crew.test() missing 1 required positional argument: 'eval_llm'",
     "output_type": "error",
     "traceback": [
      "\u001b[0;31m---------------------------------------------------------------------------\u001b[0m",
      "\u001b[0;31mTypeError\u001b[0m                                 Traceback (most recent call last)",
      "Cell \u001b[0;32mIn[7], line 2\u001b[0m\n\u001b[1;32m      1\u001b[0m \u001b[38;5;66;03m# support_report_crew.test(n_iterations=1, openai_model_name='gpt-4o')\u001b[39;00m\n\u001b[0;32m----> 2\u001b[0m \u001b[43msupport_report_crew\u001b[49m\u001b[38;5;241;43m.\u001b[39;49m\u001b[43mtest\u001b[49m\u001b[43m(\u001b[49m\u001b[43mn_iterations\u001b[49m\u001b[38;5;241;43m=\u001b[39;49m\u001b[38;5;241;43m1\u001b[39;49m\u001b[43m)\u001b[49m\n",
      "\u001b[0;31mTypeError\u001b[0m: Crew.test() missing 1 required positional argument: 'eval_llm'"
     ]
    }
   ],
   "source": [
    "# support_report_crew.test(n_iterations=1, openai_model_name='gpt-4o')\n",
    "support_report_crew.test(n_iterations=1)"
   ]
  },
  {
   "cell_type": "markdown",
   "id": "3d1fa2c2-6256-4420-8b7b-c8d5e09bbc01",
   "metadata": {},
   "source": [
    "## Training your crew and agents"
   ]
  },
  {
   "cell_type": "code",
   "execution_count": null,
   "id": "5a4e362d-c010-43dd-88c4-e7db87834fb4",
   "metadata": {
    "height": 30
   },
   "outputs": [],
   "source": [
    "support_report_crew.train(n_iterations=1, filename='training.pkl')"
   ]
  },
  {
   "cell_type": "markdown",
   "id": "39e94a74-8700-4f83-b732-01b8d63dd774",
   "metadata": {},
   "source": [
    "## Comparing new test results"
   ]
  },
  {
   "cell_type": "code",
   "execution_count": null,
   "id": "0fc73842-8162-49f9-b4a1-5dc7d86f3e48",
   "metadata": {
    "height": 30
   },
   "outputs": [],
   "source": [
    "# support_report_crew.test(n_iterations=1, openai_model_name='gpt-4o')\n",
    "support_report_crew.test(n_iterations=1)"
   ]
  },
  {
   "cell_type": "code",
   "execution_count": null,
   "id": "0e8626d2-e48a-4b7e-a061-a8eb492c9036",
   "metadata": {
    "height": 115
   },
   "outputs": [],
   "source": [
    "# Display the Trello screenshot\n",
    "from IPython.display import Image, display\n",
    "\n",
    "# Load and display the image\n",
    "test_image = Image(filename='test_before_training.png', width=368)\n",
    "display(test_image)"
   ]
  },
  {
   "cell_type": "markdown",
   "id": "1d1437cf-ebc1-4e46-b982-7eeec5462479",
   "metadata": {},
   "source": [
    "## Kicking off Crew"
   ]
  },
  {
   "cell_type": "code",
   "execution_count": null,
   "id": "a655927f-c10c-4c06-852a-d9c96fdfbfb9",
   "metadata": {
    "height": 30
   },
   "outputs": [],
   "source": [
    "result = support_report_crew.kickoff()"
   ]
  },
  {
   "cell_type": "markdown",
   "id": "d039f919-2d28-4871-b316-8813e9adebde",
   "metadata": {},
   "source": [
    "## Result"
   ]
  },
  {
   "cell_type": "code",
   "execution_count": null,
   "id": "9e861574-0f9b-4f2c-b2d1-a230fc3a53a3",
   "metadata": {
    "height": 47
   },
   "outputs": [],
   "source": [
    "from IPython.display import display, Markdown\n",
    "display(Markdown(result.raw))"
   ]
  }
 ],
 "metadata": {
  "kernelspec": {
   "display_name": "Python 3.11",
   "language": "python",
   "name": "python3"
  },
  "language_info": {
   "codemirror_mode": {
    "name": "ipython",
    "version": 3
   },
   "file_extension": ".py",
   "mimetype": "text/x-python",
   "name": "python",
   "nbconvert_exporter": "python",
   "pygments_lexer": "ipython3",
   "version": "3.11.9"
  }
 },
 "nbformat": 4,
 "nbformat_minor": 5
}
