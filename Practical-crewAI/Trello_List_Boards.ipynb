{
 "cells": [
  {
   "cell_type": "markdown",
   "id": "bd7570d3-ebfe-4b73-9ace-85c38fadf6cd",
   "metadata": {
    "papermill": {},
    "tags": []
   },
   "source": [
    "<img width=\"8%\" alt=\"Trello.png\" src=\"https://raw.githubusercontent.com/jupyter-naas/awesome-notebooks/master/.github/assets/logos/Trello.png\" style=\"border-radius: 15%\">"
   ]
  },
  {
   "cell_type": "markdown",
   "id": "0668489a-c4b7-40b7-a300-d8b447c1c945",
   "metadata": {
    "papermill": {},
    "tags": []
   },
   "source": [
    "# Trello - List Boards\n",
    "<a href=\"https://bit.ly/3JyWIk6\">Give Feedback</a> | <a href=\"https://github.com/jupyter-naas/awesome-notebooks/issues/new?assignees=&labels=bug&template=bug_report.md&title=Trello+-+List+Boards:+Error+short+description\">Bug report</a>"
   ]
  },
  {
   "cell_type": "markdown",
   "id": "74681751-d10d-4021-91d9-ee30de4d5f3e",
   "metadata": {
    "papermill": {},
    "tags": []
   },
   "source": [
    "**Tags:** #trello #api #boards #list #python #rest"
   ]
  },
  {
   "cell_type": "markdown",
   "id": "a389466a-efd0-4c3b-b4da-da4dda24587e",
   "metadata": {
    "papermill": {},
    "tags": []
   },
   "source": [
    "**Author:** [Benjamin Filly](https://www.linkedin.com/in/benjamin-filly-05427727a/)"
   ]
  },
  {
   "cell_type": "markdown",
   "id": "f6abbb8d-2ee8-41af-8b3e-f8155634ac98",
   "metadata": {
    "papermill": {},
    "tags": []
   },
   "source": [
    "**Last update:** 2023-10-16 (Created: 2023-07-11)"
   ]
  },
  {
   "cell_type": "markdown",
   "id": "576f8dd6-eef7-4905-a989-d65ee1ab6682",
   "metadata": {
    "papermill": {},
    "tags": []
   },
   "source": [
    "**Description:** This notebook would allow you to retrieve a list of all the boards that you have access to in Trello. You could then use this information to perform further actions on the boards, such as listing the cards or updating their details."
   ]
  },
  {
   "cell_type": "markdown",
   "id": "ac5208fc-8a09-474b-8a52-c2b42cfe5399",
   "metadata": {
    "papermill": {},
    "tags": []
   },
   "source": [
    "**References:**\n",
    "- [Trello API Documentation](https://developer.atlassian.com/cloud/trello/rest/api-group-boards/#api-boards-id-get)\n",
    "- [Trello API Introduction](https://developer.atlassian.com/cloud/trello/guides/rest-api/api-introduction/)"
   ]
  },
  {
   "cell_type": "markdown",
   "id": "12c39c66-3da0-4369-8100-3a6794d565b1",
   "metadata": {
    "papermill": {},
    "tags": []
   },
   "source": [
    "## Input"
   ]
  },
  {
   "cell_type": "markdown",
   "id": "c4019e36-94f9-4a02-a56b-39dcbdafe8cb",
   "metadata": {
    "papermill": {},
    "tags": []
   },
   "source": [
    "### Import libraries"
   ]
  },
  {
   "cell_type": "code",
   "execution_count": null,
   "id": "f315e403-ae46-439a-bb7b-1fe891ff6392",
   "metadata": {
    "papermill": {},
    "tags": []
   },
   "outputs": [],
   "source": [
    "import requests\n",
    "import naas"
   ]
  },
  {
   "cell_type": "markdown",
   "id": "39250cf5-e95c-44b4-bd60-9172b559c109",
   "metadata": {
    "papermill": {},
    "tags": []
   },
   "source": [
    "### Setup Variables\n",
    "- `api_key`: Your Trello API key. [Get your API key here](https://github.com/Benjifilly/My_notebooks/wiki/How-to-obtain-an-API-key-for-Trello)\n",
    "- `force_update`: Parameters to enforce the token update"
   ]
  },
  {
   "cell_type": "code",
   "execution_count": null,
   "id": "7029f2e3-8159-42f7-b8fe-469fa7341e5b",
   "metadata": {
    "papermill": {},
    "tags": []
   },
   "outputs": [],
   "source": [
    "api_key = naas.secret.get(\"TRELLO_API_KEY\") or \"YOUR_TRELLO_API_KEY\"\n",
    "force_update = False"
   ]
  },
  {
   "cell_type": "markdown",
   "id": "53fccaa8-4784-496d-96a1-70ff243ffbbd",
   "metadata": {
    "papermill": {},
    "tags": []
   },
   "source": [
    "## Model"
   ]
  },
  {
   "cell_type": "markdown",
   "id": "cfa96574-af89-4233-9b5d-69c5a8100d42",
   "metadata": {
    "execution": {
     "iopub.execute_input": "2023-07-11T13:57:35.754122Z",
     "iopub.status.busy": "2023-07-11T13:57:35.753879Z",
     "iopub.status.idle": "2023-07-11T13:57:35.765152Z",
     "shell.execute_reply": "2023-07-11T13:57:35.764491Z",
     "shell.execute_reply.started": "2023-07-11T13:57:35.754090Z"
    },
    "papermill": {},
    "tags": []
   },
   "source": [
    "### Get your token\n",
    "Your Trello token will be stored on naas secret name: \"TRELLO_TOKEN\""
   ]
  },
  {
   "cell_type": "code",
   "execution_count": null,
   "id": "52a186e9-2c9a-4f7d-b410-4941b11cd789",
   "metadata": {
    "papermill": {},
    "tags": []
   },
   "outputs": [],
   "source": [
    "def get_token(api_key, force_update):\n",
    "    token = naas.secret.get(\"TRELLO_TOKEN\")\n",
    "    if not token or force_update:\n",
    "        url = f\"https://trello.com/1/authorize?expiration=never&scope=read,write,account&response_type=token&key={api_key}\"\n",
    "        print(f\"🔗 Click on the URL to get your token: {url}\")\n",
    "        print(\"✅ On the authorization page, click on 'Authorize' button at the bottom of the page to proceed.\")\n",
    "        print(\"💾 Copy/Paste the token in red in the input case below\")\n",
    "        token = input(\"-> Enter your token here:\")\n",
    "        naas.secret.add(\"TRELLO_TOKEN\", token)\n",
    "    return token\n",
    "     \n",
    "token = get_token(api_key, force_update)"
   ]
  },
  {
   "cell_type": "markdown",
   "id": "ef4869dd-5672-4b54-ac2e-066e4db26ce4",
   "metadata": {
    "papermill": {},
    "tags": []
   },
   "source": [
    "### Retrieve List of Boards\n",
    "Make a GET request to the Trello API to retrieve your boards"
   ]
  },
  {
   "cell_type": "code",
   "execution_count": null,
   "id": "b4a9f3d2-e46d-47ef-9c9a-6efbfaf8b1a5",
   "metadata": {
    "papermill": {},
    "tags": []
   },
   "outputs": [],
   "source": [
    "url = f\"https://api.trello.com/1/members/me/boards?key={api_key}&token={token}\"\n",
    "response = requests.get(url)"
   ]
  },
  {
   "cell_type": "markdown",
   "id": "7402cfe8-d83f-4ad0-bce9-fc8c1875e06c",
   "metadata": {
    "papermill": {},
    "tags": []
   },
   "source": [
    "## Output"
   ]
  },
  {
   "cell_type": "markdown",
   "id": "0bbc3a8a-4ca8-4eb2-b636-6d375ed1ee73",
   "metadata": {
    "papermill": {},
    "tags": []
   },
   "source": [
    "### Display Result"
   ]
  },
  {
   "cell_type": "code",
   "execution_count": 9,
   "id": "b5e17a25-dcf7-4e5f-93c9-359ee24c174a",
   "metadata": {
    "papermill": {},
    "tags": []
   },
   "outputs": [],
   "source": [
    "# Check if the request was successful\n",
    "if response.status_code == 200:\n",
    "    # Extract the boards from the response\n",
    "    boards = response.json()\n",
    "\n",
    "    # Print the number of boards\n",
    "    num_boards = len(boards)\n",
    "    print(f\"📚 You have {num_boards} board(s) in Trello:\")\n",
    "    print(\"-\" * 33)\n",
    "    \n",
    "    # Iterate over the boards and print their names\n",
    "    for board in boards:\n",
    "        board_name = board['name']\n",
    "        board_id = board['id']\n",
    "        print(f\"📌 {board_name} (ID: {board_id})\")\n",
    "else:\n",
    "    print(f\"⚠️ Error: {response.status_code} - {response.text}\")"
   ]
  },
  {
   "cell_type": "markdown",
   "id": "6dd01cff-74a0-4323-b651-b3025d4e0082",
   "metadata": {
    "papermill": {},
    "tags": []
   },
   "source": [
    " "
   ]
  }
 ],
 "metadata": {
  "kernelspec": {
   "display_name": "Python 3",
   "language": "python",
   "name": "python3"
  },
  "language_info": {
   "codemirror_mode": {
    "name": "ipython",
    "version": 3
   },
   "file_extension": ".py",
   "mimetype": "text/x-python",
   "name": "python",
   "nbconvert_exporter": "python",
   "pygments_lexer": "ipython3",
   "version": "3.9.6"
  },
  "naas": {
   "notebook_id": "8bf5205524ae16d62ec58b8c3d98d25bf423d3cb87975758f7e440f537e38440",
   "notebook_path": "Trello/Trello_List_Boards.ipynb"
  },
  "papermill": {
   "default_parameters": {},
   "environment_variables": {},
   "parameters": {},
   "version": "2.4.0"
  },
  "widgets": {
   "application/vnd.jupyter.widget-state+json": {
    "state": {},
    "version_major": 2,
    "version_minor": 0
   }
  }
 },
 "nbformat": 4,
 "nbformat_minor": 5
}