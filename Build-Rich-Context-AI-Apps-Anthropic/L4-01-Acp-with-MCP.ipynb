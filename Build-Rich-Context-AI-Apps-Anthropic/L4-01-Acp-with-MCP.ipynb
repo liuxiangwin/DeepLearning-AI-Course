{
 "cells": [
  {
   "cell_type": "markdown",
   "id": "669de8b0-7491-4c13-901d-38e2f8be0b26",
   "metadata": {},
   "source": [
    "# Lesson 9 - Adding MCP to the Hospital Server"
   ]
  },
  {
   "cell_type": "markdown",
   "id": "dcaf7e2c",
   "metadata": {},
   "source": [
    "In this final lesson, you will add another agent to the Hospital Server that uses MCP to get access to tools:\n",
    "- you will first define an MCP server using `FastMCP` that runs using the `stdio` transport (i.e., it runs locally) and exposes one tool;\n",
    "- you will then update the hospital server to include a second agent;\n",
    "- you will define the agent using the ToolCallingAgent of Smolagents and pass to it the tool exposed by the MCP server;\n",
    "- you will finally activate the agent and interact with it using an ACP client."
   ]
  },
  {
   "cell_type": "markdown",
   "id": "4a5c16d5-acb6-4a84-9ff5-72ce895723af",
   "metadata": {},
   "source": [
    "## 9.1. Output MCP Server"
   ]
  },
  {
   "cell_type": "markdown",
   "id": "a14506aa",
   "metadata": {},
   "source": [
    "Run this cell to create the file `mcpserver.py` inside the folder `my_acp_project`. The dependencies in the `my_acp_project` have been also updated so you can run this MCP server using `uv run`. Please check the note at the end of the lesson to learn more about these additional dependencies."
   ]
  },
  {
   "cell_type": "markdown",
   "id": "c166cf82-bb16-4d89-9134-056c81775242",
   "metadata": {},
   "source": [
    "## 9.2. Updating the Hospital Server to use MCP"
   ]
  },
  {
   "cell_type": "markdown",
   "id": "a6b42fa3",
   "metadata": {},
   "source": [
    "You will add the definition of the second agent `doctor_agent` which helps users find doctors near them. Note that for the MCP server, the command is defined as `uv run`."
   ]
  },
  {
   "cell_type": "code",
   "execution_count": 1,
   "id": "de3e49ef-ef85-4b93-a6d2-7820cb40e0ee",
   "metadata": {},
   "outputs": [
    {
     "name": "stdout",
     "output_type": "stream",
     "text": [
      "\u001b[31mERROR: pip's dependency resolver does not currently take into account all the packages that are installed. This behaviour is the source of the following dependency conflicts.\n",
      "transformers 4.53.2 requires tokenizers<0.22,>=0.21, but you have tokenizers 0.20.3 which is incompatible.\n",
      "vllm 0.9.2 requires tokenizers>=0.21.1, but you have tokenizers 0.20.3 which is incompatible.\n",
      "appengine-python-standard 1.1.9 requires urllib3<2,>=1.26.2, but you have urllib3 2.5.0 which is incompatible.\n",
      "codeflare-sdk 0.26.0 requires pydantic<2, but you have pydantic 2.11.7 which is incompatible.\n",
      "codeflare-sdk 0.26.0 requires ray[data,default]==2.35.0, but you have ray 2.48.0 which is incompatible.\n",
      "kfp 2.9.0 requires protobuf<5,>=4.21.1, but you have protobuf 5.29.5 which is incompatible.\n",
      "kfp 2.9.0 requires requests-toolbelt<1,>=0.8.0, but you have requests-toolbelt 1.0.0 which is incompatible.\n",
      "kfp 2.9.0 requires urllib3<2.0.0, but you have urllib3 2.5.0 which is incompatible.\n",
      "kfp-kubernetes 1.4.0 requires protobuf<5,>=4.21.1, but you have protobuf 5.29.5 which is incompatible.\n",
      "kfp-pipeline-spec 0.4.0 requires protobuf<5,>=4.21.1, but you have protobuf 5.29.5 which is incompatible.\u001b[0m\u001b[31m\n",
      "\u001b[0m\n",
      "\u001b[1m[\u001b[0m\u001b[34;49mnotice\u001b[0m\u001b[1;39;49m]\u001b[0m\u001b[39;49m A new release of pip is available: \u001b[0m\u001b[31;49m24.2\u001b[0m\u001b[39;49m -> \u001b[0m\u001b[32;49m25.1.1\u001b[0m\n",
      "\u001b[1m[\u001b[0m\u001b[34;49mnotice\u001b[0m\u001b[1;39;49m]\u001b[0m\u001b[39;49m To update, run: \u001b[0m\u001b[32;49mpip install --upgrade pip\u001b[0m\n",
      "\u001b[31mERROR: pip's dependency resolver does not currently take into account all the packages that are installed. This behaviour is the source of the following dependency conflicts.\n",
      "vllm 0.9.2 requires tokenizers>=0.21.1, but you have tokenizers 0.20.3 which is incompatible.\n",
      "vllm 0.9.2 requires transformers>=4.51.1, but you have transformers 4.46.3 which is incompatible.\u001b[0m\u001b[31m\n",
      "\u001b[0m\n",
      "\u001b[1m[\u001b[0m\u001b[34;49mnotice\u001b[0m\u001b[1;39;49m]\u001b[0m\u001b[39;49m A new release of pip is available: \u001b[0m\u001b[31;49m24.2\u001b[0m\u001b[39;49m -> \u001b[0m\u001b[32;49m25.1.1\u001b[0m\n",
      "\u001b[1m[\u001b[0m\u001b[34;49mnotice\u001b[0m\u001b[1;39;49m]\u001b[0m\u001b[39;49m To update, run: \u001b[0m\u001b[32;49mpip install --upgrade pip\u001b[0m\n",
      "\n",
      "\u001b[1m[\u001b[0m\u001b[34;49mnotice\u001b[0m\u001b[1;39;49m]\u001b[0m\u001b[39;49m A new release of pip is available: \u001b[0m\u001b[31;49m24.2\u001b[0m\u001b[39;49m -> \u001b[0m\u001b[32;49m25.1.1\u001b[0m\n",
      "\u001b[1m[\u001b[0m\u001b[34;49mnotice\u001b[0m\u001b[1;39;49m]\u001b[0m\u001b[39;49m To update, run: \u001b[0m\u001b[32;49mpip install --upgrade pip\u001b[0m\n"
     ]
    }
   ],
   "source": [
    "!pip install pysqlite3-binary crewai crewai_tools acp-sdk load_dotenv uv nest-asyncio colorama smolagents --quiet\n",
    "# pysqlite3 sqlite-vss\n",
    "!pip install chromadb ollama langchain_huggingface sentence-transformers google-generativeai --quiet\n",
    "!pip install mcpadapt --quiet"
   ]
  },
  {
   "cell_type": "code",
   "execution_count": 2,
   "id": "58f05951-fd51-4dcd-b25b-33a1d21d1c66",
   "metadata": {},
   "outputs": [],
   "source": [
    "INFERENCE_SERVER_URL = \"http://localhost:8989\"\n",
    "MODEL_NAME = \"ibm-granite/granite-3.3-2b-instruct\"\n",
    "API_KEY= \"alanliuxiang\""
   ]
  },
  {
   "cell_type": "code",
   "execution_count": null,
   "id": "48c1e3fe-f0c0-47d1-ad16-8902fe3af1a7",
   "metadata": {},
   "outputs": [
    {
     "name": "stderr",
     "output_type": "stream",
     "text": [
      "INFO:     Started server process [2144]\n",
      "INFO:     Waiting for application startup.\n",
      "INFO:     Application startup complete.\n",
      "INFO:     Uvicorn running on http://127.0.0.1:8003 (Press CTRL+C to quit)\n",
      "INFO:     Run started\n"
     ]
    },
    {
     "data": {
      "text/html": [
       "<pre style=\"white-space:pre;overflow-x:auto;line-height:normal;font-family:Menlo,'DejaVu Sans Mono',consolas,'Courier New',monospace\"><span style=\"color: #d4b702; text-decoration-color: #d4b702\">╭──────────────────────────────────────────────────── </span><span style=\"color: #d4b702; text-decoration-color: #d4b702; font-weight: bold\">New run</span><span style=\"color: #d4b702; text-decoration-color: #d4b702\"> ────────────────────────────────────────────────────╮</span>\n",
       "<span style=\"color: #d4b702; text-decoration-color: #d4b702\">│</span>                                                                                                                 <span style=\"color: #d4b702; text-decoration-color: #d4b702\">│</span>\n",
       "<span style=\"color: #d4b702; text-decoration-color: #d4b702\">│</span> <span style=\"font-weight: bold\">Search redhat blogs?</span>                                                                                            <span style=\"color: #d4b702; text-decoration-color: #d4b702\">│</span>\n",
       "<span style=\"color: #d4b702; text-decoration-color: #d4b702\">│</span>                                                                                                                 <span style=\"color: #d4b702; text-decoration-color: #d4b702\">│</span>\n",
       "<span style=\"color: #d4b702; text-decoration-color: #d4b702\">╰─ OpenAIServerModel - ibm-granite/granite-3.3-2b-instruct ───────────────────────────────────────────────────────╯</span>\n",
       "</pre>\n"
      ],
      "text/plain": [
       "\u001b[38;2;212;183;2m╭─\u001b[0m\u001b[38;2;212;183;2m───────────────────────────────────────────────────\u001b[0m\u001b[38;2;212;183;2m \u001b[0m\u001b[1;38;2;212;183;2mNew run\u001b[0m\u001b[38;2;212;183;2m \u001b[0m\u001b[38;2;212;183;2m───────────────────────────────────────────────────\u001b[0m\u001b[38;2;212;183;2m─╮\u001b[0m\n",
       "\u001b[38;2;212;183;2m│\u001b[0m                                                                                                                 \u001b[38;2;212;183;2m│\u001b[0m\n",
       "\u001b[38;2;212;183;2m│\u001b[0m \u001b[1mSearch redhat blogs?\u001b[0m                                                                                            \u001b[38;2;212;183;2m│\u001b[0m\n",
       "\u001b[38;2;212;183;2m│\u001b[0m                                                                                                                 \u001b[38;2;212;183;2m│\u001b[0m\n",
       "\u001b[38;2;212;183;2m╰─\u001b[0m\u001b[38;2;212;183;2m OpenAIServerModel - ibm-granite/granite-3.3-2b-instruct \u001b[0m\u001b[38;2;212;183;2m──────────────────────────────────────────────────────\u001b[0m\u001b[38;2;212;183;2m─╯\u001b[0m\n"
      ]
     },
     "metadata": {},
     "output_type": "display_data"
    },
    {
     "data": {
      "text/html": [
       "<pre style=\"white-space:pre;overflow-x:auto;line-height:normal;font-family:Menlo,'DejaVu Sans Mono',consolas,'Courier New',monospace\"><span style=\"color: #d4b702; text-decoration-color: #d4b702\">━━━━━━━━━━━━━━━━━━━━━━━━━━━━━━━━━━━━━━━━━━━━━━━━━━━━━ </span><span style=\"font-weight: bold\">Step </span><span style=\"color: #008080; text-decoration-color: #008080; font-weight: bold\">1</span><span style=\"color: #d4b702; text-decoration-color: #d4b702\"> ━━━━━━━━━━━━━━━━━━━━━━━━━━━━━━━━━━━━━━━━━━━━━━━━━━━━━━</span>\n",
       "</pre>\n"
      ],
      "text/plain": [
       "\u001b[38;2;212;183;2m━━━━━━━━━━━━━━━━━━━━━━━━━━━━━━━━━━━━━━━━━━━━━━━━━━━━━ \u001b[0m\u001b[1mStep \u001b[0m\u001b[1;36m1\u001b[0m\u001b[38;2;212;183;2m ━━━━━━━━━━━━━━━━━━━━━━━━━━━━━━━━━━━━━━━━━━━━━━━━━━━━━━\u001b[0m\n"
      ]
     },
     "metadata": {},
     "output_type": "display_data"
    },
    {
     "name": "stderr",
     "output_type": "stream",
     "text": [
      "INFO:     HTTP Request: POST http://localhost:8989/v1/chat/completions \"HTTP/1.1 200 OK\"\n"
     ]
    },
    {
     "data": {
      "text/html": [
       "<pre style=\"white-space:pre;overflow-x:auto;line-height:normal;font-family:Menlo,'DejaVu Sans Mono',consolas,'Courier New',monospace\">╭─────────────────────────────────────────────────────────────────────────────────────────────────────────────────╮\n",
       "│ Calling tool: 'search_papers' with arguments: {'topic': 'redhat blogs', 'max_results': 5}                       │\n",
       "╰─────────────────────────────────────────────────────────────────────────────────────────────────────────────────╯\n",
       "</pre>\n"
      ],
      "text/plain": [
       "╭─────────────────────────────────────────────────────────────────────────────────────────────────────────────────╮\n",
       "│ Calling tool: 'search_papers' with arguments: {'topic': 'redhat blogs', 'max_results': 5}                       │\n",
       "╰─────────────────────────────────────────────────────────────────────────────────────────────────────────────────╯\n"
      ]
     },
     "metadata": {},
     "output_type": "display_data"
    },
    {
     "name": "stderr",
     "output_type": "stream",
     "text": [
      "WARNING:  tool search_papers returned multiple content, using the first one\n"
     ]
    },
    {
     "data": {
      "text/html": [
       "<pre style=\"white-space:pre;overflow-x:auto;line-height:normal;font-family:Menlo,'DejaVu Sans Mono',consolas,'Courier New',monospace\">Observations: <span style=\"color: #008080; text-decoration-color: #008080; font-weight: bold\">2303.</span>10015v1\n",
       "</pre>\n"
      ],
      "text/plain": [
       "Observations: \u001b[1;36m2303.\u001b[0m10015v1\n"
      ]
     },
     "metadata": {},
     "output_type": "display_data"
    },
    {
     "data": {
      "text/html": [
       "<pre style=\"white-space:pre;overflow-x:auto;line-height:normal;font-family:Menlo,'DejaVu Sans Mono',consolas,'Courier New',monospace\"><span style=\"color: #7f7f7f; text-decoration-color: #7f7f7f\">[Step 1: Duration 2.13 seconds| Input tokens: 1,643 | Output tokens: 37]</span>\n",
       "</pre>\n"
      ],
      "text/plain": [
       "\u001b[2m[Step 1: Duration 2.13 seconds| Input tokens: 1,643 | Output tokens: 37]\u001b[0m\n"
      ]
     },
     "metadata": {},
     "output_type": "display_data"
    },
    {
     "data": {
      "text/html": [
       "<pre style=\"white-space:pre;overflow-x:auto;line-height:normal;font-family:Menlo,'DejaVu Sans Mono',consolas,'Courier New',monospace\"><span style=\"color: #d4b702; text-decoration-color: #d4b702\">━━━━━━━━━━━━━━━━━━━━━━━━━━━━━━━━━━━━━━━━━━━━━━━━━━━━━ </span><span style=\"font-weight: bold\">Step </span><span style=\"color: #008080; text-decoration-color: #008080; font-weight: bold\">2</span><span style=\"color: #d4b702; text-decoration-color: #d4b702\"> ━━━━━━━━━━━━━━━━━━━━━━━━━━━━━━━━━━━━━━━━━━━━━━━━━━━━━━</span>\n",
       "</pre>\n"
      ],
      "text/plain": [
       "\u001b[38;2;212;183;2m━━━━━━━━━━━━━━━━━━━━━━━━━━━━━━━━━━━━━━━━━━━━━━━━━━━━━ \u001b[0m\u001b[1mStep \u001b[0m\u001b[1;36m2\u001b[0m\u001b[38;2;212;183;2m ━━━━━━━━━━━━━━━━━━━━━━━━━━━━━━━━━━━━━━━━━━━━━━━━━━━━━━\u001b[0m\n"
      ]
     },
     "metadata": {},
     "output_type": "display_data"
    },
    {
     "name": "stderr",
     "output_type": "stream",
     "text": [
      "INFO:     HTTP Request: POST http://localhost:8989/v1/chat/completions \"HTTP/1.1 200 OK\"\n"
     ]
    },
    {
     "data": {
      "text/html": [
       "<pre style=\"white-space:pre;overflow-x:auto;line-height:normal;font-family:Menlo,'DejaVu Sans Mono',consolas,'Courier New',monospace\">╭─────────────────────────────────────────────────────────────────────────────────────────────────────────────────╮\n",
       "│ Calling tool: 'extract_info' with arguments: {'paper_id': '2303.10015v1'}                                       │\n",
       "╰─────────────────────────────────────────────────────────────────────────────────────────────────────────────────╯\n",
       "</pre>\n"
      ],
      "text/plain": [
       "╭─────────────────────────────────────────────────────────────────────────────────────────────────────────────────╮\n",
       "│ Calling tool: 'extract_info' with arguments: {'paper_id': '2303.10015v1'}                                       │\n",
       "╰─────────────────────────────────────────────────────────────────────────────────────────────────────────────────╯\n"
      ]
     },
     "metadata": {},
     "output_type": "display_data"
    },
    {
     "data": {
      "text/html": [
       "<pre style=\"white-space:pre;overflow-x:auto;line-height:normal;font-family:Menlo,'DejaVu Sans Mono',consolas,'Courier New',monospace\">Observations: <span style=\"font-weight: bold\">{</span>\n",
       "  <span style=\"color: #008000; text-decoration-color: #008000\">\"title\"</span>: <span style=\"color: #008000; text-decoration-color: #008000\">\"Where and What do Software Architects blog? An Exploratory Study on Architectural Knowledge in Blogs, </span>\n",
       "<span style=\"color: #008000; text-decoration-color: #008000\">and their Relevance to Design Steps\"</span>,\n",
       "  <span style=\"color: #008000; text-decoration-color: #008000\">\"authors\"</span>: |\n",
       "    <span style=\"color: #008000; text-decoration-color: #008000\">\"Mohamed Soliman\"</span>,\n",
       "    <span style=\"color: #008000; text-decoration-color: #008000\">\"Kirsten Gericke\"</span>,\n",
       "    <span style=\"color: #008000; text-decoration-color: #008000\">\"Paris Avgeriou\"</span>\n",
       "  <span style=\"font-weight: bold\">]</span>,\n",
       "  <span style=\"color: #008000; text-decoration-color: #008000\">\"summary\"</span>: <span style=\"color: #008000; text-decoration-color: #008000\">\"Software engineers share their architectural knowledge (AK) in different\\nplaces on the Web. Recent </span>\n",
       "<span style=\"color: #008000; text-decoration-color: #008000\">studies show that architectural blogs contain the\\nmost relevant AK, which can help software engineers to make </span>\n",
       "<span style=\"color: #008000; text-decoration-color: #008000\">design steps.\\nNevertheless, we know little about blogs, and specifically architectural blogs,\\nwhere software </span>\n",
       "<span style=\"color: #008000; text-decoration-color: #008000\">engineers share their AK. In this paper, we conduct an\\nexploratory study on architectural blogs to explore their </span>\n",
       "<span style=\"color: #008000; text-decoration-color: #008000\">types, topics, and\\ntheir AK. Moreover, we determine the relevance of architectural blogs to make\\ndesign steps. </span>\n",
       "<span style=\"color: #008000; text-decoration-color: #008000\">Our results support researchers and practitioners to find and\\nre-use AK from blogs.\"</span>,\n",
       "  <span style=\"color: #008000; text-decoration-color: #008000\">\"pdf_url\"</span>: <span style=\"color: #008000; text-decoration-color: #008000\">\"http://arxiv.org/pdf/2303.10015v1\"</span>,\n",
       "  <span style=\"color: #008000; text-decoration-color: #008000\">\"published\"</span>: <span style=\"color: #008000; text-decoration-color: #008000\">\"2023-03-17\"</span>\n",
       "<span style=\"font-weight: bold\">}</span>\n",
       "</pre>\n"
      ],
      "text/plain": [
       "Observations: \u001b[1m{\u001b[0m\n",
       "  \u001b[32m\"title\"\u001b[0m: \u001b[32m\"Where and What do Software Architects blog? An Exploratory Study on Architectural Knowledge in Blogs, \u001b[0m\n",
       "\u001b[32mand their Relevance to Design Steps\"\u001b[0m,\n",
       "  \u001b[32m\"authors\"\u001b[0m: |\n",
       "    \u001b[32m\"Mohamed Soliman\"\u001b[0m,\n",
       "    \u001b[32m\"Kirsten Gericke\"\u001b[0m,\n",
       "    \u001b[32m\"Paris Avgeriou\"\u001b[0m\n",
       "  \u001b[1m]\u001b[0m,\n",
       "  \u001b[32m\"summary\"\u001b[0m: \u001b[32m\"Software engineers share their architectural knowledge \u001b[0m\u001b[32m(\u001b[0m\u001b[32mAK\u001b[0m\u001b[32m)\u001b[0m\u001b[32m in different\\nplaces on the Web. Recent \u001b[0m\n",
       "\u001b[32mstudies show that architectural blogs contain the\\nmost relevant AK, which can help software engineers to make \u001b[0m\n",
       "\u001b[32mdesign steps.\\nNevertheless, we know little about blogs, and specifically architectural blogs,\\nwhere software \u001b[0m\n",
       "\u001b[32mengineers share their AK. In this paper, we conduct an\\nexploratory study on architectural blogs to explore their \u001b[0m\n",
       "\u001b[32mtypes, topics, and\\ntheir AK. Moreover, we determine the relevance of architectural blogs to make\\ndesign steps. \u001b[0m\n",
       "\u001b[32mOur results support researchers and practitioners to find and\\nre-use AK from blogs.\"\u001b[0m,\n",
       "  \u001b[32m\"pdf_url\"\u001b[0m: \u001b[32m\"http://arxiv.org/pdf/2303.10015v1\"\u001b[0m,\n",
       "  \u001b[32m\"published\"\u001b[0m: \u001b[32m\"2023-03-17\"\u001b[0m\n",
       "\u001b[1m}\u001b[0m\n"
      ]
     },
     "metadata": {},
     "output_type": "display_data"
    },
    {
     "data": {
      "text/html": [
       "<pre style=\"white-space:pre;overflow-x:auto;line-height:normal;font-family:Menlo,'DejaVu Sans Mono',consolas,'Courier New',monospace\"><span style=\"color: #7f7f7f; text-decoration-color: #7f7f7f\">[Step 2: Duration 0.60 seconds| Input tokens: 3,459 | Output tokens: 77]</span>\n",
       "</pre>\n"
      ],
      "text/plain": [
       "\u001b[2m[Step 2: Duration 0.60 seconds| Input tokens: 3,459 | Output tokens: 77]\u001b[0m\n"
      ]
     },
     "metadata": {},
     "output_type": "display_data"
    },
    {
     "data": {
      "text/html": [
       "<pre style=\"white-space:pre;overflow-x:auto;line-height:normal;font-family:Menlo,'DejaVu Sans Mono',consolas,'Courier New',monospace\"><span style=\"color: #d4b702; text-decoration-color: #d4b702\">━━━━━━━━━━━━━━━━━━━━━━━━━━━━━━━━━━━━━━━━━━━━━━━━━━━━━ </span><span style=\"font-weight: bold\">Step </span><span style=\"color: #008080; text-decoration-color: #008080; font-weight: bold\">3</span><span style=\"color: #d4b702; text-decoration-color: #d4b702\"> ━━━━━━━━━━━━━━━━━━━━━━━━━━━━━━━━━━━━━━━━━━━━━━━━━━━━━━</span>\n",
       "</pre>\n"
      ],
      "text/plain": [
       "\u001b[38;2;212;183;2m━━━━━━━━━━━━━━━━━━━━━━━━━━━━━━━━━━━━━━━━━━━━━━━━━━━━━ \u001b[0m\u001b[1mStep \u001b[0m\u001b[1;36m3\u001b[0m\u001b[38;2;212;183;2m ━━━━━━━━━━━━━━━━━━━━━━━━━━━━━━━━━━━━━━━━━━━━━━━━━━━━━━\u001b[0m\n"
      ]
     },
     "metadata": {},
     "output_type": "display_data"
    },
    {
     "name": "stderr",
     "output_type": "stream",
     "text": [
      "INFO:     HTTP Request: POST http://localhost:8989/v1/chat/completions \"HTTP/1.1 200 OK\"\n"
     ]
    },
    {
     "data": {
      "text/html": [
       "<pre style=\"white-space:pre;overflow-x:auto;line-height:normal;font-family:Menlo,'DejaVu Sans Mono',consolas,'Courier New',monospace\">╭─────────────────────────────────────────────────────────────────────────────────────────────────────────────────╮\n",
       "│ Calling tool: 'final_answer' with arguments: {'answer': \"The paper titled 'Where and What do Software           │\n",
       "│ Architects blog? An Exploratory Study on Architectural Knowledge in Blogs, and their Relevance to Design Steps' │\n",
       "│ provides an exploratory study on architectural blogs where software engineers share their architectural         │\n",
       "│ knowledge (AK). The research examines the types, topics, and relevance of these blogs to software design steps, │\n",
       "│ and supports researchers and practitioners in finding and reusing AK from architectural blogs.\"}                │\n",
       "╰─────────────────────────────────────────────────────────────────────────────────────────────────────────────────╯\n",
       "</pre>\n"
      ],
      "text/plain": [
       "╭─────────────────────────────────────────────────────────────────────────────────────────────────────────────────╮\n",
       "│ Calling tool: 'final_answer' with arguments: {'answer': \"The paper titled 'Where and What do Software           │\n",
       "│ Architects blog? An Exploratory Study on Architectural Knowledge in Blogs, and their Relevance to Design Steps' │\n",
       "│ provides an exploratory study on architectural blogs where software engineers share their architectural         │\n",
       "│ knowledge (AK). The research examines the types, topics, and relevance of these blogs to software design steps, │\n",
       "│ and supports researchers and practitioners in finding and reusing AK from architectural blogs.\"}                │\n",
       "╰─────────────────────────────────────────────────────────────────────────────────────────────────────────────────╯\n"
      ]
     },
     "metadata": {},
     "output_type": "display_data"
    },
    {
     "data": {
      "text/html": [
       "<pre style=\"white-space:pre;overflow-x:auto;line-height:normal;font-family:Menlo,'DejaVu Sans Mono',consolas,'Courier New',monospace\">Observations: The paper titled <span style=\"color: #008000; text-decoration-color: #008000\">'Where and What do Software Architects blog? An Exploratory Study on Architectural </span>\n",
       "<span style=\"color: #008000; text-decoration-color: #008000\">Knowledge in Blogs, and their Relevance to Design Steps'</span> provides an exploratory study on architectural blogs where\n",
       "software engineers share their architectural knowledge <span style=\"font-weight: bold\">(</span>AK<span style=\"font-weight: bold\">)</span>. The research examines the types, topics, and relevance\n",
       "of these blogs to software design steps, and supports researchers and practitioners in finding and reusing AK from \n",
       "architectural blogs.\n",
       "</pre>\n"
      ],
      "text/plain": [
       "Observations: The paper titled \u001b[32m'Where and What do Software Architects blog? An Exploratory Study on Architectural \u001b[0m\n",
       "\u001b[32mKnowledge in Blogs, and their Relevance to Design Steps'\u001b[0m provides an exploratory study on architectural blogs where\n",
       "software engineers share their architectural knowledge \u001b[1m(\u001b[0mAK\u001b[1m)\u001b[0m. The research examines the types, topics, and relevance\n",
       "of these blogs to software design steps, and supports researchers and practitioners in finding and reusing AK from \n",
       "architectural blogs.\n"
      ]
     },
     "metadata": {},
     "output_type": "display_data"
    },
    {
     "data": {
      "text/html": [
       "<pre style=\"white-space:pre;overflow-x:auto;line-height:normal;font-family:Menlo,'DejaVu Sans Mono',consolas,'Courier New',monospace\"><span style=\"color: #d4b702; text-decoration-color: #d4b702; font-weight: bold\">Final answer: The paper titled 'Where and What do Software Architects blog? An Exploratory Study on Architectural </span>\n",
       "<span style=\"color: #d4b702; text-decoration-color: #d4b702; font-weight: bold\">Knowledge in Blogs, and their Relevance to Design Steps' provides an exploratory study on architectural blogs where</span>\n",
       "<span style=\"color: #d4b702; text-decoration-color: #d4b702; font-weight: bold\">software engineers share their architectural knowledge (AK). The research examines the types, topics, and relevance</span>\n",
       "<span style=\"color: #d4b702; text-decoration-color: #d4b702; font-weight: bold\">of these blogs to software design steps, and supports researchers and practitioners in finding and reusing AK from </span>\n",
       "<span style=\"color: #d4b702; text-decoration-color: #d4b702; font-weight: bold\">architectural blogs.</span>\n",
       "</pre>\n"
      ],
      "text/plain": [
       "\u001b[1;38;2;212;183;2mFinal answer: The paper titled 'Where and What do Software Architects blog? An Exploratory Study on Architectural \u001b[0m\n",
       "\u001b[1;38;2;212;183;2mKnowledge in Blogs, and their Relevance to Design Steps' provides an exploratory study on architectural blogs where\u001b[0m\n",
       "\u001b[1;38;2;212;183;2msoftware engineers share their architectural knowledge (AK). The research examines the types, topics, and relevance\u001b[0m\n",
       "\u001b[1;38;2;212;183;2mof these blogs to software design steps, and supports researchers and practitioners in finding and reusing AK from \u001b[0m\n",
       "\u001b[1;38;2;212;183;2marchitectural blogs.\u001b[0m\n"
      ]
     },
     "metadata": {},
     "output_type": "display_data"
    },
    {
     "data": {
      "text/html": [
       "<pre style=\"white-space:pre;overflow-x:auto;line-height:normal;font-family:Menlo,'DejaVu Sans Mono',consolas,'Courier New',monospace\"><span style=\"color: #7f7f7f; text-decoration-color: #7f7f7f\">[Step 3: Duration 1.83 seconds| Input tokens: 5,712 | Output tokens: 203]</span>\n",
       "</pre>\n"
      ],
      "text/plain": [
       "\u001b[2m[Step 3: Duration 1.83 seconds| Input tokens: 5,712 | Output tokens: 203]\u001b[0m\n"
      ]
     },
     "metadata": {},
     "output_type": "display_data"
    },
    {
     "name": "stderr",
     "output_type": "stream",
     "text": [
      "INFO:     Run completed\n"
     ]
    },
    {
     "name": "stdout",
     "output_type": "stream",
     "text": [
      "INFO:     127.0.0.1:35284 - \"POST /runs HTTP/1.1\" 200 OK\n"
     ]
    }
   ],
   "source": [
    "from collections.abc import AsyncGenerator\n",
    "from acp_sdk.models import Message, MessagePart\n",
    "from acp_sdk.server import RunYield, RunYieldResume, Server\n",
    "from smolagents import CodeAgent, DuckDuckGoSearchTool, LiteLLMModel, VisitWebpageTool, ToolCallingAgent, ToolCollection\n",
    "from mcp import StdioServerParameters\n",
    "\n",
    "import nest_asyncio\n",
    "nest_asyncio.apply()\n",
    "\n",
    "server = Server()\n",
    "\n",
    "from smolagents import OpenAIServerModel\n",
    "\n",
    "# Configure the model to use LM Studio's local API endpoint\n",
    "model = OpenAIServerModel(\n",
    "    model_id= \"ibm-granite/granite-3.3-2b-instruct\",  # This can be any name, LM Studio will use whatever model you have loaded\n",
    "    api_base= f\"{INFERENCE_SERVER_URL}/v1\",  # Default LM Studio API endpoint\n",
    "    api_key=API_KEY # LM Studio doesn't require an API key by default\n",
    ")\n",
    "\n",
    "\n",
    "server_parameters = StdioServerParameters(\n",
    "    command=\"uv\",\n",
    "    args=[\"run\", \"./mcp_project/research_server.py\"],\n",
    "    env=None,\n",
    ")\n",
    "\n",
    "@server.agent()\n",
    "async def research_agent(input: list[Message]) -> AsyncGenerator[RunYield, RunYieldResume]:\n",
    "    \"This is a Doctor Agent which helps users find doctors near them.\"\n",
    "    with ToolCollection.from_mcp(server_parameters, trust_remote_code=True) as tool_collection:\n",
    "        agent = ToolCallingAgent(tools=[*tool_collection.tools], model=model)\n",
    "        prompt = input[0].parts[0].content\n",
    "        response = agent.run(prompt)\n",
    "\n",
    "    yield Message(parts=[MessagePart(content=str(response))])\n",
    "\n",
    "if __name__ == \"__main__\":\n",
    "    server.run(port=8003)"
   ]
  },
  {
   "cell_type": "markdown",
   "id": "733712a9-6817-4cbd-9f00-dd2ab595bc0c",
   "metadata": {},
   "source": [
    "## 9.3. Run the Hospital ACP x MCP Server"
   ]
  },
  {
   "cell_type": "markdown",
   "id": "98b60766",
   "metadata": {},
   "source": [
    "- Open the terminal by running the cell below.\n",
    "- If the agent is still running from the previous lessons, then you can stop it by typing `CTRL+C`.\n",
    "- Run the server again by typing:\n",
    "  - `uv run smolagents_server.py`"
   ]
  },
  {
   "cell_type": "markdown",
   "id": "89cd4177-2e6f-4206-a85c-3b4fd5ad6777",
   "metadata": {},
   "source": [
    "## 9.4. Call the ACPxMCP Server"
   ]
  },
  {
   "cell_type": "markdown",
   "id": "1294ae55",
   "metadata": {},
   "source": [
    "**Note: How to update the `my_acp_project` locally on your machine so you can enable MCP?**\n",
    "- cd `my_acp_project`\n",
    "- `uv add mcp smolagents[mcp]`"
   ]
  },
  {
   "cell_type": "markdown",
   "id": "f1704644",
   "metadata": {},
   "source": [
    "## 9.4. Resources"
   ]
  },
  {
   "cell_type": "markdown",
   "id": "d84026d8",
   "metadata": {},
   "source": [
    "- [Smolagents from mcp tool](https://huggingface.co/docs/smolagents/en/reference/tools#smolagents.ToolCollection.from_mcp)\n",
    "- [MCP short course](https://www.deeplearning.ai/short-courses/mcp-build-rich-context-ai-apps-with-anthropic/)\n",
    "- [MCP and A2A](https://agentcommunicationprotocol.dev/about/mcp-and-a2a)\n",
    "- [The doctors json file used accessed through the MCP server](https://raw.githubusercontent.com/nicknochnack/ACPWalkthrough/refs/heads/main/doctors.json)"
   ]
  }
 ],
 "metadata": {
  "kernelspec": {
   "display_name": "Python 3.11",
   "language": "python",
   "name": "python3"
  },
  "language_info": {
   "codemirror_mode": {
    "name": "ipython",
    "version": 3
   },
   "file_extension": ".py",
   "mimetype": "text/x-python",
   "name": "python",
   "nbconvert_exporter": "python",
   "pygments_lexer": "ipython3",
   "version": "3.11.9"
  }
 },
 "nbformat": 4,
 "nbformat_minor": 5
}
