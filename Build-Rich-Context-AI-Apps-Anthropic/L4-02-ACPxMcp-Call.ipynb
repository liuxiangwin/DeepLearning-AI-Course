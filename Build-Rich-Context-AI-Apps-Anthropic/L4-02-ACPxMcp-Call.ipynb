{
 "cells": [
  {
   "cell_type": "code",
   "execution_count": 1,
   "id": "adc4eeb4-e527-431f-9644-c4f3f5371679",
   "metadata": {},
   "outputs": [
    {
     "name": "stdout",
     "output_type": "stream",
     "text": [
      "\n",
      "\u001b[1m[\u001b[0m\u001b[34;49mnotice\u001b[0m\u001b[1;39;49m]\u001b[0m\u001b[39;49m A new release of pip is available: \u001b[0m\u001b[31;49m24.2\u001b[0m\u001b[39;49m -> \u001b[0m\u001b[32;49m25.1.1\u001b[0m\n",
      "\u001b[1m[\u001b[0m\u001b[34;49mnotice\u001b[0m\u001b[1;39;49m]\u001b[0m\u001b[39;49m To update, run: \u001b[0m\u001b[32;49mpip install --upgrade pip\u001b[0m\n"
     ]
    }
   ],
   "source": [
    "!pip install mcpadapt --quiet"
   ]
  },
  {
   "cell_type": "code",
   "execution_count": 2,
   "id": "04f56efb-d79d-490e-885e-86ec31a29c3f",
   "metadata": {},
   "outputs": [],
   "source": [
    "import asyncio\n",
    "import nest_asyncio\n",
    "from acp_sdk.client import Client\n",
    "from colorama import Fore \n",
    "\n",
    "nest_asyncio.apply() "
   ]
  },
  {
   "cell_type": "code",
   "execution_count": 3,
   "id": "aad64d9c-77ad-4ab5-b136-578cb8945e0d",
   "metadata": {},
   "outputs": [],
   "source": [
    "async def run_research_workflow() -> None:\n",
    "    async with Client(base_url=\"http://localhost:8003\") as search:\n",
    "        run1 = await search.run_sync(\n",
    "            agent=\"research_agent\", input=\"Search redhat blogs?\"\n",
    "        )\n",
    "        content = run1.output[0].parts[0].content\n",
    "        print(Fore.LIGHTMAGENTA_EX+ content + Fore.RESET)"
   ]
  },
  {
   "cell_type": "code",
   "execution_count": 4,
   "id": "f5e66d48-8ec7-45cd-ba75-90a6c1a47593",
   "metadata": {},
   "outputs": [
    {
     "name": "stdout",
     "output_type": "stream",
     "text": [
      "\u001b[95mThe paper titled 'Where and What do Software Architects blog? An Exploratory Study on Architectural Knowledge in Blogs, and their Relevance to Design Steps' provides an exploratory study on architectural blogs where software engineers share their architectural knowledge (AK). The research examines the types, topics, and relevance of these blogs to software design steps, and supports researchers and practitioners in finding and reusing AK from architectural blogs.\u001b[39m\n"
     ]
    }
   ],
   "source": [
    "asyncio.run(run_research_workflow())"
   ]
  }
 ],
 "metadata": {
  "kernelspec": {
   "display_name": "Python 3.11",
   "language": "python",
   "name": "python3"
  },
  "language_info": {
   "codemirror_mode": {
    "name": "ipython",
    "version": 3
   },
   "file_extension": ".py",
   "mimetype": "text/x-python",
   "name": "python",
   "nbconvert_exporter": "python",
   "pygments_lexer": "ipython3",
   "version": "3.11.9"
  }
 },
 "nbformat": 4,
 "nbformat_minor": 5
}
