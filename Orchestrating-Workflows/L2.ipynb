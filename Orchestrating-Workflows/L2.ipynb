{
 "cells": [
  {
   "cell_type": "markdown",
   "metadata": {
    "id": "WMGxBP-yQoCl"
   },
   "source": [
    "## Lesson 2: Your RAG Prototype\n"
   ]
  },
  {
   "cell_type": "markdown",
   "metadata": {},
   "source": [
    "In this lesson, you will build a RAG prototype in this notebook which you will learn how to automate in the next lesson. You are provided with text files containing book descriptions. You will create embeddings based on the book description and store them in a vector database. Here's what you will do:\n",
    "- read book descriptions from the text files stored under `include/data`\n",
    "- use `fastembed` to create the vector embedding for each book description\n",
    "- store the embeddings and the book metadata in a local `weaviate` database"
   ]
  },
  {
   "cell_type": "markdown",
   "metadata": {},
   "source": [
    "### Import libraries"
   ]
  },
  {
   "cell_type": "code",
   "execution_count": 1,
   "metadata": {},
   "outputs": [
    {
     "name": "stdout",
     "output_type": "stream",
     "text": [
      "\u001b[31mERROR: pip's dependency resolver does not currently take into account all the packages that are installed. This behaviour is the source of the following dependency conflicts.\n",
      "opentelemetry-proto 1.34.1 requires protobuf<6.0,>=5.0, but you have protobuf 6.31.1 which is incompatible.\n",
      "fastmcp 2.8.0 requires authlib>=1.5.2, but you have authlib 1.3.1 which is incompatible.\n",
      "pymilvus 2.3.6 requires grpcio<=1.60.0,>=1.49.1, but you have grpcio 1.73.0 which is incompatible.\n",
      "autogen-core 0.6.1 requires protobuf~=5.29.3, but you have protobuf 6.31.1 which is incompatible.\n",
      "codeflare-sdk 0.26.0 requires pydantic<2, but you have pydantic 2.11.5 which is incompatible.\n",
      "codeflare-sdk 0.26.0 requires ray[data,default]==2.35.0, but you have ray 2.47.0 which is incompatible.\n",
      "google-api-core 2.24.1 requires protobuf!=3.20.0,!=3.20.1,!=4.21.0,!=4.21.1,!=4.21.2,!=4.21.3,!=4.21.4,!=4.21.5,<6.0.0.dev0,>=3.19.5, but you have protobuf 6.31.1 which is incompatible.\n",
      "googleapis-common-protos 1.66.0 requires protobuf!=3.20.0,!=3.20.1,!=4.21.1,!=4.21.2,!=4.21.3,!=4.21.4,!=4.21.5,<6.0.0.dev0,>=3.20.2, but you have protobuf 6.31.1 which is incompatible.\n",
      "kfp 2.9.0 requires protobuf<5,>=4.21.1, but you have protobuf 6.31.1 which is incompatible.\n",
      "kfp 2.9.0 requires requests-toolbelt<1,>=0.8.0, but you have requests-toolbelt 1.0.0 which is incompatible.\n",
      "kfp-kubernetes 1.4.0 requires protobuf<5,>=4.21.1, but you have protobuf 6.31.1 which is incompatible.\n",
      "kfp-pipeline-spec 0.4.0 requires protobuf<5,>=4.21.1, but you have protobuf 6.31.1 which is incompatible.\n",
      "proto-plus 1.26.0 requires protobuf<6.0.0dev,>=3.19.0, but you have protobuf 6.31.1 which is incompatible.\u001b[0m\u001b[31m\n",
      "\u001b[0m\n",
      "\u001b[1m[\u001b[0m\u001b[34;49mnotice\u001b[0m\u001b[1;39;49m]\u001b[0m\u001b[39;49m A new release of pip is available: \u001b[0m\u001b[31;49m24.2\u001b[0m\u001b[39;49m -> \u001b[0m\u001b[32;49m25.1.1\u001b[0m\n",
      "\u001b[1m[\u001b[0m\u001b[34;49mnotice\u001b[0m\u001b[1;39;49m]\u001b[0m\u001b[39;49m To update, run: \u001b[0m\u001b[32;49mpip install --upgrade pip\u001b[0m\n"
     ]
    }
   ],
   "source": [
    "!pip install weaviate-client==4.14.1 fastembed==0.6.1 ipython --quiet"
   ]
  },
  {
   "cell_type": "code",
   "execution_count": 2,
   "metadata": {},
   "outputs": [
    {
     "name": "stderr",
     "output_type": "stream",
     "text": [
      "/opt/app-root/lib64/python3.11/site-packages/google/protobuf/runtime_version.py:98: UserWarning: Protobuf gencode version 5.27.2 is exactly one major version older than the runtime version 6.31.1 at v1/aggregate.proto. Please update the gencode to avoid compatibility violations in the next runtime release.\n",
      "  warnings.warn(\n",
      "/opt/app-root/lib64/python3.11/site-packages/google/protobuf/runtime_version.py:98: UserWarning: Protobuf gencode version 5.27.2 is exactly one major version older than the runtime version 6.31.1 at v1/base.proto. Please update the gencode to avoid compatibility violations in the next runtime release.\n",
      "  warnings.warn(\n",
      "/opt/app-root/lib64/python3.11/site-packages/google/protobuf/runtime_version.py:98: UserWarning: Protobuf gencode version 5.27.2 is exactly one major version older than the runtime version 6.31.1 at v1/base_search.proto. Please update the gencode to avoid compatibility violations in the next runtime release.\n",
      "  warnings.warn(\n",
      "/opt/app-root/lib64/python3.11/site-packages/google/protobuf/runtime_version.py:98: UserWarning: Protobuf gencode version 5.27.2 is exactly one major version older than the runtime version 6.31.1 at v1/batch.proto. Please update the gencode to avoid compatibility violations in the next runtime release.\n",
      "  warnings.warn(\n",
      "/opt/app-root/lib64/python3.11/site-packages/google/protobuf/runtime_version.py:98: UserWarning: Protobuf gencode version 5.27.2 is exactly one major version older than the runtime version 6.31.1 at v1/batch_delete.proto. Please update the gencode to avoid compatibility violations in the next runtime release.\n",
      "  warnings.warn(\n",
      "/opt/app-root/lib64/python3.11/site-packages/google/protobuf/runtime_version.py:98: UserWarning: Protobuf gencode version 5.27.2 is exactly one major version older than the runtime version 6.31.1 at v1/search_get.proto. Please update the gencode to avoid compatibility violations in the next runtime release.\n",
      "  warnings.warn(\n",
      "/opt/app-root/lib64/python3.11/site-packages/google/protobuf/runtime_version.py:98: UserWarning: Protobuf gencode version 5.27.2 is exactly one major version older than the runtime version 6.31.1 at v1/generative.proto. Please update the gencode to avoid compatibility violations in the next runtime release.\n",
      "  warnings.warn(\n",
      "/opt/app-root/lib64/python3.11/site-packages/google/protobuf/runtime_version.py:98: UserWarning: Protobuf gencode version 5.27.2 is exactly one major version older than the runtime version 6.31.1 at v1/properties.proto. Please update the gencode to avoid compatibility violations in the next runtime release.\n",
      "  warnings.warn(\n",
      "/opt/app-root/lib64/python3.11/site-packages/google/protobuf/runtime_version.py:98: UserWarning: Protobuf gencode version 5.27.2 is exactly one major version older than the runtime version 6.31.1 at v1/tenants.proto. Please update the gencode to avoid compatibility violations in the next runtime release.\n",
      "  warnings.warn(\n"
     ]
    }
   ],
   "source": [
    "import os\n",
    "import json\n",
    "from IPython.display import JSON\n",
    "\n",
    "from fastembed import TextEmbedding\n",
    "\n",
    "import weaviate\n",
    "from weaviate.classes.data import DataObject\n",
    "\n",
    "from helper import suppress_output"
   ]
  },
  {
   "cell_type": "code",
   "execution_count": 3,
   "metadata": {},
   "outputs": [],
   "source": [
    "# Warning control\n",
    "import warnings\n",
    "warnings.filterwarnings('ignore')"
   ]
  },
  {
   "cell_type": "markdown",
   "metadata": {},
   "source": [
    "<p style=\"background-color:#fff6ff; padding:15px; border-width:3px; border-color:#efe6ef; border-style:solid; border-radius:6px\"> 💻 &nbsp; <b>To access <code>requirements.txt</code> and <code>helper.py</code> files, and <code>include</code> folder:</b> 1) click on the <em>\"File\"</em> option on the top menu of the notebook, 2) click on <em>\"Open\"</em> and then 3) click on <em>\"L2\"</em>. For more help, please see the <em>\"Appendix – Tips, Help, and Download\"</em> Lesson.</p>"
   ]
  },
  {
   "cell_type": "markdown",
   "metadata": {},
   "source": [
    "### Set variables"
   ]
  },
  {
   "cell_type": "code",
   "execution_count": 4,
   "metadata": {},
   "outputs": [],
   "source": [
    "COLLECTION_NAME = \"Books\"  # capitalize the first letter of collection names\n",
    "BOOK_DESCRIPTION_FOLDER = \"include/data\"\n",
    "EMBEDDING_MODEL_NAME = \"BAAI/bge-small-en-v1.5\""
   ]
  },
  {
   "cell_type": "markdown",
   "metadata": {},
   "source": [
    "Note regarding the variable `COLLECTION_NAME`: Weaviate stores data in [\"collections\"](https://weaviate.io/developers/academy/py/starter_text_data/text_collections/create_collection). A collection is a set of objects that share the same data structure. In the Weaviate instance of this lesson, you will create a collection of books. Each book object will have a vector embedding and a set of properties."
   ]
  },
  {
   "cell_type": "markdown",
   "metadata": {},
   "source": [
    "### Instantiate Embedded Weaviate client"
   ]
  },
  {
   "cell_type": "markdown",
   "metadata": {},
   "source": [
    "You will now create a local Weaviate instance: [Embedded Weaviate](https://weaviate.io/developers/weaviate/connections/connect-embedded), which is a way to run a Weaviate instance from your application code rather than from a stand-alone Weaviate server installation. \n",
    "\n",
    "In the next lessons, you will be interacting with the latter option; you'll be provided with a Weaviate instance running in a [Docker](https://docs.docker.com/) container."
   ]
  },
  {
   "cell_type": "code",
   "execution_count": 5,
   "metadata": {},
   "outputs": [
    {
     "name": "stdout",
     "output_type": "stream",
     "text": [
      "Started new embedded Weaviate instance.\n",
      "Client is ready: True\n"
     ]
    }
   ],
   "source": [
    "with suppress_output():\n",
    "    client = weaviate.connect_to_embedded(\n",
    "        persistence_data_path= \"tmp/weaviate\",\n",
    "    )\n",
    "print(\"Started new embedded Weaviate instance.\")\n",
    "print(f\"Client is ready: {client.is_ready()}\")"
   ]
  },
  {
   "cell_type": "markdown",
   "metadata": {},
   "source": [
    "### Create the collection "
   ]
  },
  {
   "cell_type": "markdown",
   "metadata": {},
   "source": [
    "You will now create the Books collection inside the Weaviate instance."
   ]
  },
  {
   "cell_type": "code",
   "execution_count": 6,
   "metadata": {},
   "outputs": [
    {
     "name": "stdout",
     "output_type": "stream",
     "text": [
      "Collection Books does not exist yet. Creating it...\n",
      "Collection Books created successfully.\n"
     ]
    }
   ],
   "source": [
    "existing_collections = client.collections.list_all()\n",
    "existing_collection_names = existing_collections.keys()\n",
    "\n",
    "if COLLECTION_NAME not in existing_collection_names:\n",
    "    print(f\"Collection {COLLECTION_NAME} does not exist yet. Creating it...\")\n",
    "    collection = client.collections.create(name=COLLECTION_NAME)\n",
    "    print(f\"Collection {COLLECTION_NAME} created successfully.\")\n",
    "else:\n",
    "    print(f\"Collection {COLLECTION_NAME} already exists. No action taken.\")\n",
    "    collection = client.collections.get(COLLECTION_NAME)"
   ]
  },
  {
   "cell_type": "markdown",
   "metadata": {},
   "source": [
    "### Extract text from local files"
   ]
  },
  {
   "cell_type": "markdown",
   "metadata": {},
   "source": [
    "You are provided with the `BOOK_DESCRIPTION_FOLDER` (`include/data`) inside the L2 directory. It contains some text files, where each text file contains some book descriptions. You'll now list the text files to discover how many of such files you are provided. "
   ]
  },
  {
   "cell_type": "code",
   "execution_count": 7,
   "metadata": {},
   "outputs": [
    {
     "name": "stdout",
     "output_type": "stream",
     "text": [
      "The following files with book descriptions were found: ['book_descriptions_1.txt', 'book_descriptions_2.txt', 'my_book_descriptions.txt']\n"
     ]
    }
   ],
   "source": [
    "# list the book description files\n",
    "book_description_files = [\n",
    "    f for f in os.listdir(BOOK_DESCRIPTION_FOLDER)\n",
    "    if f.endswith('.txt')\n",
    "]\n",
    "\n",
    "print(f\"The following files with book descriptions were found: {book_description_files}\")"
   ]
  },
  {
   "cell_type": "markdown",
   "metadata": {},
   "source": [
    "You'll add another file that contains some additional book descriptions. Feel free to add your own book description file. "
   ]
  },
  {
   "cell_type": "code",
   "execution_count": 8,
   "metadata": {},
   "outputs": [],
   "source": [
    "# Add your own book description file\n",
    "# Format \n",
    "# [Integer Index] ::: [Book Title] ([Release year]) ::: [Author] ::: [Description]\n",
    "\n",
    "my_book_description = \"\"\"0 ::: The Idea of the World (2019) ::: Bernardo Kastrup ::: An ontological thesis arguing for the primacy of mind over matter.\n",
    "1 ::: Exploring the World of Lucid Dreaming (1990) ::: Stephen LaBerge ::: A practical guide to learning and enjoying lucid dreams.\n",
    "\"\"\"\n",
    "\n",
    "# Write to file\n",
    "with open(f\"{BOOK_DESCRIPTION_FOLDER}/my_book_descriptions.txt\", 'w') as f:\n",
    "    f.write(my_book_description)"
   ]
  },
  {
   "cell_type": "markdown",
   "metadata": {},
   "source": [
    "You'll now loop through each text file. For each text file, you will read each line, which corresponds to one book, to extract the title, author and text description of that book. You will save the data in a list of Python dictionaries, where each dictionary corresponds to one book.   "
   ]
  },
  {
   "cell_type": "code",
   "execution_count": 9,
   "metadata": {},
   "outputs": [],
   "source": [
    "book_description_files = [\n",
    "    f for f in os.listdir(BOOK_DESCRIPTION_FOLDER)\n",
    "    if f.endswith('.txt')\n",
    "]\n",
    "\n",
    "list_of_book_data = []\n",
    "\n",
    "for book_description_file in book_description_files:\n",
    "    with open(\n",
    "        os.path.join(BOOK_DESCRIPTION_FOLDER, book_description_file), \"r\"\n",
    "    ) as f:\n",
    "        book_descriptions = f.readlines()\n",
    "    \n",
    "    titles = [\n",
    "        book_description.split(\":::\")[1].strip()\n",
    "        for book_description in book_descriptions\n",
    "    ]\n",
    "    authors = [\n",
    "        book_description.split(\":::\")[2].strip()\n",
    "        for book_description in book_descriptions\n",
    "    ]\n",
    "    book_description_text = [\n",
    "        book_description.split(\":::\")[3].strip()\n",
    "        for book_description in book_descriptions\n",
    "    ]\n",
    "    \n",
    "    book_descriptions = [\n",
    "        {\n",
    "            \"title\": title,\n",
    "            \"author\": author,\n",
    "            \"description\": description,\n",
    "        }\n",
    "        for title, author, description in zip(\n",
    "            titles, authors, book_description_text\n",
    "        )\n",
    "    ]\n",
    "\n",
    "    list_of_book_data.append(book_descriptions)"
   ]
  },
  {
   "cell_type": "code",
   "execution_count": 10,
   "metadata": {},
   "outputs": [
    {
     "data": {
      "application/json": [
       [
        {
         "author": "Bernardo Kastrup",
         "description": "A rigorous case for the primacy of mind in nature, from philosophy to neuroscience, psychology and physics. The Idea of the World offers a grounded alternative to the frenzy of unrestrained abstractions and unexamined assumptions in philosophy and science today. This book examines what can be learned about the nature of reality based on conceptual parsimony, straightforward logic and empirical evidence from fields as diverse as physics and neuroscience. It compiles an overarching case for idealism - the notion that reality is essentially mental - from ten original articles the author has previously published in leading academic journals. The case begins with an exposition of the logical fallacies and internal contradictions of the reigning physicalist ontology and its popular alternatives, such as bottom-up panpsychism. It then advances a compelling formulation of idealism that elegantly makes sense of - and reconciles - classical and quantum worlds. The main objections to idealism are systematically refuted and empirical evidence is reviewed that corroborates the formulation presented here. The book closes with an analysis of the hidden psychological motivations behind mainstream physicalism and the implications of idealism for the way we relate to the world.",
         "title": "The Idea of the World (2019)"
        },
        {
         "author": "Hermann Hesse",
         "description": "Steppenwolf is a poetical self-portrait of a man who felt himself to be half-human and half-wolf. This Faust-like and magical story is evidence of Hesse's searching philosophy and extraordinary sense of humanity as he tells of the humanization of a middle-aged misanthrope. Yet his novel can also be seen as a plea for rigorous self-examination and an indictment of the intellectual hypocrisy of the period. As Hesse himself remarked, \"Of all my books Steppenwolf is the one that was more often and more violently misunderstood than any of the others\".",
         "title": "Steppenwolf (1927)"
        },
        {
         "author": "Ingeborg Bachmann",
         "description": "Bachmann tells the story of lives painfully intertwined: the unnamed narrator, haunted by nightmarish memories of her father, lives with the androgynous Malina, an initially remote and dispassionate man who ultimately becomes an ominous influence. Plunging toward its riveting finale, Malina brutally lays bare the struggle for love.",
         "title": "Malina (1971)"
        },
        {
         "author": "Robert Anton Wilson",
         "description": "Imagine trying to make sense of an amalgam of Timothy Leary's eight neurological circuits, G.I. Gurdjieff's self-observation exercises, Alfred Korzybskis general semantics, Aleister Crowley's magical theorems, and the several disciplines of Yoga; not to mention Christian Science, relativity, quantum mechanics, and many other approaches to understanding the world around us! That is exactly what Robert Anton Wilson does in Prometheus Rising. In short, this is a book about how the human mind works and what you can do to make the most of yours.",
         "title": "Prometheus Rising (1983)"
        }
       ],
       [
        {
         "author": "Iain McGilchrist",
         "description": "In a book of unprecedented scope, Iain McGilchrist presents a fascinating exploration of the differences between the brain’s left and right hemispheres, and how those differences have affected society, history, and culture. McGilchrist draws on a vast body of recent research in neuroscience and psychology to reveal that the difference is profound: the left hemisphere is detail oriented, while the right has greater breadth, flexibility, and generosity. McGilchrist then takes the reader on a journey through the history of Western culture, illustrating the tension between these two worlds as revealed in the thought and belief of thinkers and artists from Aeschylus to Magritte.",
         "title": "The Master and His Emissary (2009)"
        },
        {
         "author": "Stephen King",
         "description": "In the first book of this series, Stephen King introduces readers to one of his most enigmatic heroes, Roland of Gilead, The Last Gunslinger. He is a haunting figure, a loner on a spellbinding journey into good and evil. In his desolate world, which frighteningly mirrors our own, Roland pursues The Man in Black, encounters an alluring woman named Alice, and begins a friendship with the Kid from Earth called Jake. Both grippingly realistic and eerily dreamlike, The Gunslinger leaves readers eagerly awaiting the next chapter.",
         "title": "The Gunslinger (1982)"
        },
        {
         "author": "Franz Kafka",
         "description": "\"As Gregor Samsa awoke one morning from uneasy dreams he found himself transformed in his bed into a gigantic insect. He was laying on his hard, as it were armor-plated, back and when he lifted his head a little he could see his domelike brown belly divided into stiff arched segments on top of which the bed quilt could hardly keep in position and was about to slide off completely. His numerous legs, which were pitifully thin compared to the rest of his bulk, waved helplessly before his eyes.\" With it's startling, bizarre, yet surprisingly funny first opening, Kafka begins his masterpiece, The Metamorphosis. It is the story of a young man who, transformed overnight into a giant beetle-like insect, becomes an object of disgrace to his family, an outsider in his own home, a quintessentially alienated man. A harrowing—though absurdly comic—meditation on human feelings of inadequacy, guilt, and isolation, The Metamorphosis has taken its place as one of the most widely read and influential works of twentieth-century fiction. As W.H. Auden wrote, \"Kafka is important to us because his predicament is the predicament of modern man.\"",
         "title": "The Metamorphosis (1915)"
        }
       ],
       [
        {
         "author": "Bernardo Kastrup",
         "description": "An ontological thesis arguing for the primacy of mind over matter.",
         "title": "The Idea of the World (2019)"
        },
        {
         "author": "Stephen LaBerge",
         "description": "A practical guide to learning and enjoying lucid dreams.",
         "title": "Exploring the World of Lucid Dreaming (1990)"
        }
       ]
      ],
      "text/plain": [
       "<IPython.core.display.JSON object>"
      ]
     },
     "execution_count": 10,
     "metadata": {
      "application/json": {
       "expanded": false,
       "root": "root"
      }
     },
     "output_type": "execute_result"
    }
   ],
   "source": [
    "JSON(json.dumps(list_of_book_data))"
   ]
  },
  {
   "cell_type": "markdown",
   "metadata": {},
   "source": [
    "### Create vector embeddings from descriptions"
   ]
  },
  {
   "cell_type": "markdown",
   "metadata": {},
   "source": [
    "For each book in the list of book data you extracted, you will now create an embedding vector based on the text description. You will store the the vector of embeddings in the list `list_of_description_embeddings`."
   ]
  },
  {
   "cell_type": "code",
   "execution_count": 11,
   "metadata": {},
   "outputs": [
    {
     "data": {
      "application/vnd.jupyter.widget-view+json": {
       "model_id": "a186cfa8eb3d432f8747b37b36bc93c1",
       "version_major": 2,
       "version_minor": 0
      },
      "text/plain": [
       "Fetching 5 files:   0%|          | 0/5 [00:00<?, ?it/s]"
      ]
     },
     "metadata": {},
     "output_type": "display_data"
    },
    {
     "data": {
      "application/vnd.jupyter.widget-view+json": {
       "model_id": "6449876f6ea44932a07703e6c19e3b88",
       "version_major": 2,
       "version_minor": 0
      },
      "text/plain": [
       "special_tokens_map.json:   0%|          | 0.00/695 [00:00<?, ?B/s]"
      ]
     },
     "metadata": {},
     "output_type": "display_data"
    },
    {
     "data": {
      "application/vnd.jupyter.widget-view+json": {
       "model_id": "ef8cf344ee3047ae89217571838f9609",
       "version_major": 2,
       "version_minor": 0
      },
      "text/plain": [
       "config.json:   0%|          | 0.00/706 [00:00<?, ?B/s]"
      ]
     },
     "metadata": {},
     "output_type": "display_data"
    },
    {
     "data": {
      "application/vnd.jupyter.widget-view+json": {
       "model_id": "4b0ccf645f8e41448fe2a4e05f1a539f",
       "version_major": 2,
       "version_minor": 0
      },
      "text/plain": [
       "tokenizer_config.json:   0%|          | 0.00/1.24k [00:00<?, ?B/s]"
      ]
     },
     "metadata": {},
     "output_type": "display_data"
    },
    {
     "data": {
      "application/vnd.jupyter.widget-view+json": {
       "model_id": "0aaeec4c844a4257b6b36e203d500688",
       "version_major": 2,
       "version_minor": 0
      },
      "text/plain": [
       "model_optimized.onnx:   0%|          | 0.00/66.5M [00:00<?, ?B/s]"
      ]
     },
     "metadata": {},
     "output_type": "display_data"
    },
    {
     "data": {
      "application/vnd.jupyter.widget-view+json": {
       "model_id": "988309ecb433456cbf42af611eca1730",
       "version_major": 2,
       "version_minor": 0
      },
      "text/plain": [
       "tokenizer.json:   0%|          | 0.00/711k [00:00<?, ?B/s]"
      ]
     },
     "metadata": {},
     "output_type": "display_data"
    }
   ],
   "source": [
    "embedding_model = TextEmbedding(EMBEDDING_MODEL_NAME)  \n",
    "\n",
    "list_of_description_embeddings = []\n",
    "\n",
    "for book_data in list_of_book_data:\n",
    "    book_descriptions = [book[\"description\"] for book in book_data]\n",
    "    description_embeddings = [\n",
    "        list(embedding_model.embed([desc]))[0] for desc in book_descriptions\n",
    "    ]\n",
    "\n",
    "    list_of_description_embeddings.append(description_embeddings)"
   ]
  },
  {
   "cell_type": "markdown",
   "metadata": {},
   "source": [
    "### Load embeddings to Weaviate"
   ]
  },
  {
   "cell_type": "markdown",
   "metadata": {},
   "source": [
    "In the books collection of Weaviate, you will create an item for each data object (book). The item has two attributes:\n",
    "- `vector`: which represents the vector embedding of the book text description\n",
    "- `properties`: which is a python dictionary that contains the book metadata: title, author and text description."
   ]
  },
  {
   "cell_type": "code",
   "execution_count": 12,
   "metadata": {},
   "outputs": [],
   "source": [
    "for book_data_list, emb_list in zip(list_of_book_data, list_of_description_embeddings):\n",
    "    items = []\n",
    "    \n",
    "    for book_data, emb in zip(book_data_list, emb_list):\n",
    "        item = DataObject(\n",
    "            properties={\n",
    "                \"title\": book_data[\"title\"],\n",
    "                \"author\": book_data[\"author\"],\n",
    "                \"description\": book_data[\"description\"],\n",
    "            },\n",
    "            vector=emb\n",
    "        )\n",
    "        items.append(item)\n",
    "    \n",
    "    collection.data.insert_many(items)"
   ]
  },
  {
   "cell_type": "markdown",
   "metadata": {},
   "source": [
    "### Query for a book recommendation using semantic search"
   ]
  },
  {
   "cell_type": "markdown",
   "metadata": {},
   "source": [
    "Now that you have the embeddings stored in the Weaviate instance, you can query the vector database. You are provided with a query that you will first map it to its embedding vector. You will then pass this vector embedding to the method: `query.near_vector` of the Weaviate `Books` collection. "
   ]
  },
  {
   "cell_type": "code",
   "execution_count": 13,
   "metadata": {},
   "outputs": [
    {
     "name": "stdout",
     "output_type": "stream",
     "text": [
      "You should read: The Idea of the World (2019) by Bernardo Kastrup\n",
      "Description:\n",
      "An ontological thesis arguing for the primacy of mind over matter.\n"
     ]
    }
   ],
   "source": [
    "query_str = \"A philosophical book\"\n",
    "\n",
    "embedding_model = TextEmbedding(EMBEDDING_MODEL_NAME)  \n",
    "collection = client.collections.get(COLLECTION_NAME)\n",
    "\n",
    "query_emb = list(embedding_model.embed([query_str]))[0]\n",
    "\n",
    "results = collection.query.near_vector(\n",
    "    near_vector=query_emb,\n",
    "    limit=1,\n",
    ")\n",
    "for result in results.objects:\n",
    "    print(f\"You should read: {result.properties['title']} by {result.properties['author']}\")\n",
    "    print(\"Description:\")\n",
    "    print(result.properties[\"description\"])"
   ]
  },
  {
   "cell_type": "markdown",
   "metadata": {},
   "source": [
    "### Optional Cleanup utilities\n",
    "\n",
    "These are optional cleanup utilities that you can locally use to remove the custom book description file, a collection in weaviate or the entire Weaviate instance."
   ]
  },
  {
   "cell_type": "code",
   "execution_count": 14,
   "metadata": {},
   "outputs": [],
   "source": [
    "# ## Remove a book description file\n",
    "\n",
    "# import os\n",
    "\n",
    "# file_path = f\"{BOOK_DESCRIPTION_FOLDER}/my_book_descriptions.txt\"\n",
    "\n",
    "# # Remove the file\n",
    "# if os.path.exists(file_path):\n",
    "#     os.remove(file_path)\n",
    "# else:\n",
    "#     print(f\"File not found: {file_path}\")"
   ]
  },
  {
   "cell_type": "code",
   "execution_count": 15,
   "metadata": {},
   "outputs": [],
   "source": [
    "# ## Remove a collection from an existing Weaviate instance\n",
    "\n",
    "# client.collections.delete(COLLECTION_NAME)"
   ]
  },
  {
   "cell_type": "code",
   "execution_count": 16,
   "metadata": {},
   "outputs": [],
   "source": [
    "# ## Delete a Weaviate instance\n",
    "# ## This cell can take a few seconds to run  \n",
    "\n",
    "# import shutil\n",
    "\n",
    "# client.close()\n",
    "\n",
    "# EMBEDDED_WEAVIATE_PERSISTENCE_PATH = \"tmp/weaviate\"\n",
    "\n",
    "# if os.path.exists(EMBEDDED_WEAVIATE_PERSISTENCE_PATH):\n",
    "#     shutil.rmtree(EMBEDDED_WEAVIATE_PERSISTENCE_PATH)\n",
    "#     if not os.path.exists(EMBEDDED_WEAVIATE_PERSISTENCE_PATH):\n",
    "#         print(f\"Verified: '{EMBEDDED_WEAVIATE_PERSISTENCE_PATH}' no longer exists.\")\n",
    "#         print(f\"Weaviate embedded data at '{EMBEDDED_WEAVIATE_PERSISTENCE_PATH}' deleted.\")"
   ]
  },
  {
   "cell_type": "markdown",
   "metadata": {},
   "source": [
    "### Resources"
   ]
  },
  {
   "cell_type": "markdown",
   "metadata": {},
   "source": [
    "- [Weaviate Docs](https://weaviate.io/developers/weaviate)\n",
    "- [What is FastEmbed?](https://qdrant.github.io/fastembed/)\n",
    "- [Weaviate Short Course - Vector Databases: from Embeddings to Applications](https://www.deeplearning.ai/short-courses/vector-databases-embeddings-applications/)\n",
    "- [Weaviate Short Course - Building Multimodal Search and RAG](https://www.deeplearning.ai/short-courses/building-multimodal-search-and-rag/)"
   ]
  },
  {
   "cell_type": "markdown",
   "metadata": {},
   "source": [
    "<div style=\"background-color:#fff6ff; padding:13px; border-width:3px; border-color:#efe6ef; border-style:solid; border-radius:6px\">\n",
    "<p> 💻 &nbsp; <b>To access <code>requirements.txt</code> and <code>helper.py</code> files and <code> include</code> folder:</b> 1) click on the <em>\"File\"</em> option on the top menu of the notebook 2) click on <em>\"Open\"</em> and then 3) click on <em>\"L2\"</em>.\n",
    "\n",
    "<p> ⬇ &nbsp; <b>Download Notebooks:</b> 1) click on the <em>\"File\"</em> option on the top menu of the notebook and then 2) click on <em>\"Download as\"</em> and select <em>\"Notebook (.ipynb)\"</em>.</p>\n",
    "\n",
    "<p> 📒 &nbsp; For more help, please see the <em>\"Appendix – Tips, Help, and Download\"</em> Lesson.</p>\n",
    "\n",
    "</div>"
   ]
  }
 ],
 "metadata": {
  "colab": {
   "gpuType": "T4",
   "provenance": []
  },
  "kernelspec": {
   "display_name": "Python 3.11",
   "language": "python",
   "name": "python3"
  },
  "language_info": {
   "codemirror_mode": {
    "name": "ipython",
    "version": 3
   },
   "file_extension": ".py",
   "mimetype": "text/x-python",
   "name": "python",
   "nbconvert_exporter": "python",
   "pygments_lexer": "ipython3",
   "version": "3.11.9"
  }
 },
 "nbformat": 4,
 "nbformat_minor": 4
}
