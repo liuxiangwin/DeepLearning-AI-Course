{
 "cells": [
  {
   "cell_type": "markdown",
   "id": "669de8b0-7491-4c13-901d-38e2f8be0b26",
   "metadata": {},
   "source": [
    "# Lesson 9 - Adding MCP to the Hospital Server"
   ]
  },
  {
   "cell_type": "markdown",
   "id": "dcaf7e2c",
   "metadata": {},
   "source": [
    "In this final lesson, you will add another agent to the Hospital Server that uses MCP to get access to tools:\n",
    "- you will first define an MCP server using `FastMCP` that runs using the `stdio` transport (i.e., it runs locally) and exposes one tool;\n",
    "- you will then update the hospital server to include a second agent;\n",
    "- you will define the agent using the ToolCallingAgent of Smolagents and pass to it the tool exposed by the MCP server;\n",
    "- you will finally activate the agent and interact with it using an ACP client."
   ]
  },
  {
   "cell_type": "markdown",
   "id": "4a5c16d5-acb6-4a84-9ff5-72ce895723af",
   "metadata": {},
   "source": [
    "## 9.1. Output MCP Server"
   ]
  },
  {
   "cell_type": "markdown",
   "id": "a14506aa",
   "metadata": {},
   "source": [
    "Run this cell to create the file `mcpserver.py` inside the folder `my_acp_project`. The dependencies in the `my_acp_project` have been also updated so you can run this MCP server using `uv run`. Please check the note at the end of the lesson to learn more about these additional dependencies."
   ]
  },
  {
   "cell_type": "code",
   "execution_count": 1,
   "id": "87b3b698-2b23-47dd-b5c4-c774aff242c8",
   "metadata": {},
   "outputs": [
    {
     "name": "stdout",
     "output_type": "stream",
     "text": [
      "\n",
      "\u001b[1m[\u001b[0m\u001b[34;49mnotice\u001b[0m\u001b[1;39;49m]\u001b[0m\u001b[39;49m A new release of pip is available: \u001b[0m\u001b[31;49m24.2\u001b[0m\u001b[39;49m -> \u001b[0m\u001b[32;49m25.1.1\u001b[0m\n",
      "\u001b[1m[\u001b[0m\u001b[34;49mnotice\u001b[0m\u001b[1;39;49m]\u001b[0m\u001b[39;49m To update, run: \u001b[0m\u001b[32;49mpip install --upgrade pip\u001b[0m\n"
     ]
    }
   ],
   "source": [
    "!pip install python-a2a fastmcp nest-asyncio --quiet"
   ]
  },
  {
   "cell_type": "code",
   "execution_count": 2,
   "id": "d9358f8f-2156-4211-8b17-500bf2e699b9",
   "metadata": {},
   "outputs": [
    {
     "name": "stdout",
     "output_type": "stream",
     "text": [
      "Overwriting ./alan_acp_project/mcpserver.py\n"
     ]
    }
   ],
   "source": [
    "%%writefile ./alan_acp_project/mcpserver.py\n",
    "from colorama import Fore\n",
    "from mcp.server.fastmcp import FastMCP\n",
    "import json \n",
    "import requests\n",
    "import threading\n",
    "\n",
    "mcp = FastMCP(\"doctorserver\", port=6000)\n",
    "    \n",
    "# Build server function\n",
    "@mcp.tool()\n",
    "def list_doctors(state:str) -> str:\n",
    "    \"\"\"This tool returns doctors that may be near you.\n",
    "    Args:\n",
    "        state: the two letter state code that you live in. \n",
    "        Example payload: \"CA\"\n",
    "\n",
    "    Returns:\n",
    "        str: a list of doctors that may be near you\n",
    "        Example Response \"{\"DOC001\":{\"name\":\"Dr John James\", \"specialty\":\"Cardiology\"...}...}\" \n",
    "        \"\"\"\n",
    "    \n",
    "    url = 'https://raw.githubusercontent.com/nicknochnack/ACPWalkthrough/refs/heads/main/doctors.json'\n",
    "    resp = requests.get(url)\n",
    "    doctors = json.loads(resp.text)\n",
    "\n",
    "    matches = [doctor for doctor in doctors.values() if doctor['address']['state'] == state]    \n",
    "    return str(matches) \n",
    "\n",
    "def start_mcp_server():\n",
    "    \"\"\"Start MCP server in background thread\"\"\"\n",
    "    try:\n",
    "        # mcp.run(host='0.0.0.0', port=6000)\n",
    "        mcp.run(transport=\"streamable-http\")\n",
    "    except Exception as e:\n",
    "        print(f\"MCP Server error: {e}\")\n",
    "\n",
    "\n",
    "# Kick off server if file is run \n",
    "if __name__ == \"__main__\":\n",
    "    # mcp.run(transport=\"stdio\")\n",
    "\n",
    "    # Start MCP server in background thread\n",
    "    mcp_thread = threading.Thread(target=start_mcp_server, daemon=True)\n",
    "    mcp_thread.start()"
   ]
  },
  {
   "cell_type": "markdown",
   "id": "c166cf82-bb16-4d89-9134-056c81775242",
   "metadata": {},
   "source": [
    "## 9.2. Updating the Hospital Server to use MCP"
   ]
  },
  {
   "cell_type": "markdown",
   "id": "a6b42fa3",
   "metadata": {},
   "source": [
    "You will add the definition of the second agent `doctor_agent` which helps users find doctors near them. Note that for the MCP server, the command is defined as `uv run`."
   ]
  },
  {
   "cell_type": "markdown",
   "id": "733712a9-6817-4cbd-9f00-dd2ab595bc0c",
   "metadata": {},
   "source": [
    "## 9.3. Run the Hospital ACP x MCP Server"
   ]
  },
  {
   "cell_type": "markdown",
   "id": "98b60766",
   "metadata": {},
   "source": [
    "- Open the terminal by running the cell below.\n",
    "- If the agent is still running from the previous lessons, then you can stop it by typing `CTRL+C`.\n",
    "- Run the server again by typing:\n",
    "  - `uv run smolagents_server.py`"
   ]
  },
  {
   "cell_type": "markdown",
   "id": "89cd4177-2e6f-4206-a85c-3b4fd5ad6777",
   "metadata": {},
   "source": [
    "## 9.4. Call the ACPxMCP Server"
   ]
  },
  {
   "cell_type": "markdown",
   "id": "1294ae55",
   "metadata": {},
   "source": [
    "**Note: How to update the `my_acp_project` locally on your machine so you can enable MCP?**\n",
    "- cd `my_acp_project`\n",
    "- `uv add mcp smolagents[mcp]`"
   ]
  },
  {
   "cell_type": "markdown",
   "id": "f1704644",
   "metadata": {},
   "source": [
    "## 9.4. Resources"
   ]
  },
  {
   "cell_type": "markdown",
   "id": "d84026d8",
   "metadata": {},
   "source": [
    "- [Smolagents from mcp tool](https://huggingface.co/docs/smolagents/en/reference/tools#smolagents.ToolCollection.from_mcp)\n",
    "- [MCP short course](https://www.deeplearning.ai/short-courses/mcp-build-rich-context-ai-apps-with-anthropic/)\n",
    "- [MCP and A2A](https://agentcommunicationprotocol.dev/about/mcp-and-a2a)\n",
    "- [The doctors json file used accessed through the MCP server](https://raw.githubusercontent.com/nicknochnack/ACPWalkthrough/refs/heads/main/doctors.json)"
   ]
  },
  {
   "cell_type": "markdown",
   "id": "b47f97df",
   "metadata": {},
   "source": [
    "<p style=\"background-color:#fff6ff; padding:15px; border-width:3px; border-color:#efe6ef; border-style:solid; border-radius:6px\"> 💻 &nbsp; <b>To access the <code>my_acp_project</code> folder:</b> 1) click on the <em>\"File\"</em> option on the top menu of the notebook and then 2) click on <em>\"Open\"</em>. "
   ]
  },
  {
   "cell_type": "markdown",
   "id": "aa43bb70",
   "metadata": {},
   "source": [
    "<div style=\"background-color:#fff6ff; padding:13px; border-width:3px; border-color:#efe6ef; border-style:solid; border-radius:6px\">\n",
    "<p> ⬇ &nbsp; <b>Download Notebooks:</b> 1) click on the <em>\"File\"</em> option on the top menu of the notebook and then 2) click on <em>\"Download as\"</em> and select <em>\"Notebook (.ipynb)\"</em>.</p>\n",
    "</div>"
   ]
  }
 ],
 "metadata": {
  "kernelspec": {
   "display_name": "Python 3.11",
   "language": "python",
   "name": "python3"
  },
  "language_info": {
   "codemirror_mode": {
    "name": "ipython",
    "version": 3
   },
   "file_extension": ".py",
   "mimetype": "text/x-python",
   "name": "python",
   "nbconvert_exporter": "python",
   "pygments_lexer": "ipython3",
   "version": "3.11.9"
  }
 },
 "nbformat": 4,
 "nbformat_minor": 5
}
