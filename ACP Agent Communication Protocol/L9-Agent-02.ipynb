{
 "cells": [
  {
   "cell_type": "markdown",
   "id": "669de8b0-7491-4c13-901d-38e2f8be0b26",
   "metadata": {},
   "source": [
    "# Lesson 9 - Adding MCP to the Hospital Server"
   ]
  },
  {
   "cell_type": "markdown",
   "id": "dcaf7e2c",
   "metadata": {},
   "source": [
    "In this final lesson, you will add another agent to the Hospital Server that uses MCP to get access to tools:\n",
    "- you will first define an MCP server using `FastMCP` that runs using the `stdio` transport (i.e., it runs locally) and exposes one tool;\n",
    "- you will then update the hospital server to include a second agent;\n",
    "- you will define the agent using the ToolCallingAgent of Smolagents and pass to it the tool exposed by the MCP server;\n",
    "- you will finally activate the agent and interact with it using an ACP client."
   ]
  },
  {
   "cell_type": "markdown",
   "id": "4a5c16d5-acb6-4a84-9ff5-72ce895723af",
   "metadata": {},
   "source": [
    "## 9.1. Output MCP Server"
   ]
  },
  {
   "cell_type": "markdown",
   "id": "a14506aa",
   "metadata": {},
   "source": [
    "Run this cell to create the file `mcpserver.py` inside the folder `my_acp_project`. The dependencies in the `my_acp_project` have been also updated so you can run this MCP server using `uv run`. Please check the note at the end of the lesson to learn more about these additional dependencies."
   ]
  },
  {
   "cell_type": "markdown",
   "id": "c166cf82-bb16-4d89-9134-056c81775242",
   "metadata": {},
   "source": [
    "## 9.2. Updating the Hospital Server to use MCP"
   ]
  },
  {
   "cell_type": "markdown",
   "id": "a6b42fa3",
   "metadata": {},
   "source": [
    "You will add the definition of the second agent `doctor_agent` which helps users find doctors near them. Note that for the MCP server, the command is defined as `uv run`."
   ]
  },
  {
   "cell_type": "code",
   "execution_count": 1,
   "id": "de3e49ef-ef85-4b93-a6d2-7820cb40e0ee",
   "metadata": {},
   "outputs": [
    {
     "name": "stdout",
     "output_type": "stream",
     "text": [
      "\n",
      "\u001b[1m[\u001b[0m\u001b[34;49mnotice\u001b[0m\u001b[1;39;49m]\u001b[0m\u001b[39;49m A new release of pip is available: \u001b[0m\u001b[31;49m24.2\u001b[0m\u001b[39;49m -> \u001b[0m\u001b[32;49m25.1.1\u001b[0m\n",
      "\u001b[1m[\u001b[0m\u001b[34;49mnotice\u001b[0m\u001b[1;39;49m]\u001b[0m\u001b[39;49m To update, run: \u001b[0m\u001b[32;49mpip install --upgrade pip\u001b[0m\n"
     ]
    }
   ],
   "source": [
    "!pip install mcpadapt --quiet"
   ]
  },
  {
   "cell_type": "code",
   "execution_count": 2,
   "id": "58f05951-fd51-4dcd-b25b-33a1d21d1c66",
   "metadata": {},
   "outputs": [],
   "source": [
    "INFERENCE_SERVER_URL = \"http://localhost:8989\"\n",
    "MODEL_NAME = \"ibm-granite/granite-3.3-2b-instruct\"\n",
    "API_KEY= \"alanliuxiang\""
   ]
  },
  {
   "cell_type": "code",
   "execution_count": null,
   "id": "48c1e3fe-f0c0-47d1-ad16-8902fe3af1a7",
   "metadata": {},
   "outputs": [
    {
     "name": "stderr",
     "output_type": "stream",
     "text": [
      "INFO:     Started server process [2769]\n",
      "INFO:     Waiting for application startup.\n",
      "INFO:     Application startup complete.\n",
      "INFO:     Uvicorn running on http://127.0.0.1:8003 (Press CTRL+C to quit)\n",
      "INFO:     Run started\n"
     ]
    },
    {
     "data": {
      "text/html": [
       "<pre style=\"white-space:pre;overflow-x:auto;line-height:normal;font-family:Menlo,'DejaVu Sans Mono',consolas,'Courier New',monospace\"><span style=\"color: #d4b702; text-decoration-color: #d4b702\">╭──────────────────────────────────────────────────── </span><span style=\"color: #d4b702; text-decoration-color: #d4b702; font-weight: bold\">New run</span><span style=\"color: #d4b702; text-decoration-color: #d4b702\"> ────────────────────────────────────────────────────╮</span>\n",
       "<span style=\"color: #d4b702; text-decoration-color: #d4b702\">│</span>                                                                                                                 <span style=\"color: #d4b702; text-decoration-color: #d4b702\">│</span>\n",
       "<span style=\"color: #d4b702; text-decoration-color: #d4b702\">│</span> <span style=\"font-weight: bold\">I'm based in Atlanta,GA. Are there any Cardiologists near me?</span>                                                   <span style=\"color: #d4b702; text-decoration-color: #d4b702\">│</span>\n",
       "<span style=\"color: #d4b702; text-decoration-color: #d4b702\">│</span>                                                                                                                 <span style=\"color: #d4b702; text-decoration-color: #d4b702\">│</span>\n",
       "<span style=\"color: #d4b702; text-decoration-color: #d4b702\">╰─ OpenAIServerModel - ibm-granite/granite-3.3-2b-instruct ───────────────────────────────────────────────────────╯</span>\n",
       "</pre>\n"
      ],
      "text/plain": [
       "\u001b[38;2;212;183;2m╭─\u001b[0m\u001b[38;2;212;183;2m───────────────────────────────────────────────────\u001b[0m\u001b[38;2;212;183;2m \u001b[0m\u001b[1;38;2;212;183;2mNew run\u001b[0m\u001b[38;2;212;183;2m \u001b[0m\u001b[38;2;212;183;2m───────────────────────────────────────────────────\u001b[0m\u001b[38;2;212;183;2m─╮\u001b[0m\n",
       "\u001b[38;2;212;183;2m│\u001b[0m                                                                                                                 \u001b[38;2;212;183;2m│\u001b[0m\n",
       "\u001b[38;2;212;183;2m│\u001b[0m \u001b[1mI'm based in Atlanta,GA. Are there any Cardiologists near me?\u001b[0m                                                   \u001b[38;2;212;183;2m│\u001b[0m\n",
       "\u001b[38;2;212;183;2m│\u001b[0m                                                                                                                 \u001b[38;2;212;183;2m│\u001b[0m\n",
       "\u001b[38;2;212;183;2m╰─\u001b[0m\u001b[38;2;212;183;2m OpenAIServerModel - ibm-granite/granite-3.3-2b-instruct \u001b[0m\u001b[38;2;212;183;2m──────────────────────────────────────────────────────\u001b[0m\u001b[38;2;212;183;2m─╯\u001b[0m\n"
      ]
     },
     "metadata": {},
     "output_type": "display_data"
    },
    {
     "data": {
      "text/html": [
       "<pre style=\"white-space:pre;overflow-x:auto;line-height:normal;font-family:Menlo,'DejaVu Sans Mono',consolas,'Courier New',monospace\"><span style=\"color: #d4b702; text-decoration-color: #d4b702\">━━━━━━━━━━━━━━━━━━━━━━━━━━━━━━━━━━━━━━━━━━━━━━━━━━━━━ </span><span style=\"font-weight: bold\">Step </span><span style=\"color: #008080; text-decoration-color: #008080; font-weight: bold\">1</span><span style=\"color: #d4b702; text-decoration-color: #d4b702\"> ━━━━━━━━━━━━━━━━━━━━━━━━━━━━━━━━━━━━━━━━━━━━━━━━━━━━━━</span>\n",
       "</pre>\n"
      ],
      "text/plain": [
       "\u001b[38;2;212;183;2m━━━━━━━━━━━━━━━━━━━━━━━━━━━━━━━━━━━━━━━━━━━━━━━━━━━━━ \u001b[0m\u001b[1mStep \u001b[0m\u001b[1;36m1\u001b[0m\u001b[38;2;212;183;2m ━━━━━━━━━━━━━━━━━━━━━━━━━━━━━━━━━━━━━━━━━━━━━━━━━━━━━━\u001b[0m\n"
      ]
     },
     "metadata": {},
     "output_type": "display_data"
    },
    {
     "name": "stderr",
     "output_type": "stream",
     "text": [
      "INFO:     HTTP Request: POST http://localhost:8989/v1/chat/completions \"HTTP/1.1 200 OK\"\n"
     ]
    },
    {
     "data": {
      "text/html": [
       "<pre style=\"white-space:pre;overflow-x:auto;line-height:normal;font-family:Menlo,'DejaVu Sans Mono',consolas,'Courier New',monospace\">╭─────────────────────────────────────────────────────────────────────────────────────────────────────────────────╮\n",
       "│ Calling tool: 'list_doctors' with arguments: {'state': 'GA'}                                                    │\n",
       "╰─────────────────────────────────────────────────────────────────────────────────────────────────────────────────╯\n",
       "</pre>\n"
      ],
      "text/plain": [
       "╭─────────────────────────────────────────────────────────────────────────────────────────────────────────────────╮\n",
       "│ Calling tool: 'list_doctors' with arguments: {'state': 'GA'}                                                    │\n",
       "╰─────────────────────────────────────────────────────────────────────────────────────────────────────────────────╯\n"
      ]
     },
     "metadata": {},
     "output_type": "display_data"
    },
    {
     "data": {
      "text/html": [
       "<pre style=\"white-space:pre;overflow-x:auto;line-height:normal;font-family:Menlo,'DejaVu Sans Mono',consolas,'Courier New',monospace\">Observations: |<span style=\"font-weight: bold\">{</span><span style=\"color: #008000; text-decoration-color: #008000\">'name'</span>: <span style=\"color: #008000; text-decoration-color: #008000\">'Dr. Sarah Mitchell'</span>, <span style=\"color: #008000; text-decoration-color: #008000\">'specialty'</span>: <span style=\"color: #008000; text-decoration-color: #008000\">'Cardiology'</span>, <span style=\"color: #008000; text-decoration-color: #008000\">'address'</span>: <span style=\"font-weight: bold\">{</span><span style=\"color: #008000; text-decoration-color: #008000\">'street'</span>: <span style=\"color: #008000; text-decoration-color: #008000\">'1247 Medical Center</span>\n",
       "<span style=\"color: #008000; text-decoration-color: #008000\">Drive'</span>, <span style=\"color: #008000; text-decoration-color: #008000\">'city'</span>: <span style=\"color: #008000; text-decoration-color: #008000\">'Atlanta'</span>, <span style=\"color: #008000; text-decoration-color: #008000\">'state'</span>: <span style=\"color: #008000; text-decoration-color: #008000\">'GA'</span>, <span style=\"color: #008000; text-decoration-color: #008000\">'zip_code'</span>: <span style=\"color: #008000; text-decoration-color: #008000\">'30309'</span><span style=\"font-weight: bold\">}</span>, <span style=\"color: #008000; text-decoration-color: #008000\">'phone'</span>: <span style=\"color: #008000; text-decoration-color: #008000\">'(404) 555-2847'</span>, <span style=\"color: #008000; text-decoration-color: #008000\">'email'</span>: \n",
       "<span style=\"color: #008000; text-decoration-color: #008000\">'s.mitchell@atlantaheart.com'</span>, <span style=\"color: #008000; text-decoration-color: #008000\">'years_experience'</span>: <span style=\"color: #008080; text-decoration-color: #008080; font-weight: bold\">15</span>, <span style=\"color: #008000; text-decoration-color: #008000\">'board_certified'</span>: <span style=\"color: #008000; text-decoration-color: #008000\">'True'</span>, <span style=\"color: #008000; text-decoration-color: #008000\">'hospital_affiliations'</span>: |<span style=\"color: #008000; text-decoration-color: #008000\">'Emory </span>\n",
       "<span style=\"color: #008000; text-decoration-color: #008000\">University Hospital'</span>, <span style=\"color: #008000; text-decoration-color: #008000\">'Piedmont Atlanta Hospital'</span><span style=\"font-weight: bold\">]</span>, <span style=\"color: #008000; text-decoration-color: #008000\">'education'</span>: <span style=\"font-weight: bold\">{</span><span style=\"color: #008000; text-decoration-color: #008000\">'medical_school'</span>: <span style=\"color: #008000; text-decoration-color: #008000\">'Duke University School of </span>\n",
       "<span style=\"color: #008000; text-decoration-color: #008000\">Medicine'</span>, <span style=\"color: #008000; text-decoration-color: #008000\">'residency'</span>: <span style=\"color: #008000; text-decoration-color: #008000\">'Johns Hopkins Hospital'</span>, <span style=\"color: #008000; text-decoration-color: #008000\">'fellowship'</span>: <span style=\"color: #008000; text-decoration-color: #008000\">'Cleveland Clinic'</span><span style=\"font-weight: bold\">}</span>, <span style=\"color: #008000; text-decoration-color: #008000\">'languages'</span>: |<span style=\"color: #008000; text-decoration-color: #008000\">'English'</span>, \n",
       "<span style=\"color: #008000; text-decoration-color: #008000\">'Spanish'</span><span style=\"font-weight: bold\">]</span>, <span style=\"color: #008000; text-decoration-color: #008000\">'accepts_new_patients'</span>: <span style=\"color: #008000; text-decoration-color: #008000\">'True'</span>, <span style=\"color: #008000; text-decoration-color: #008000\">'insurance_accepted'</span>: |<span style=\"color: #008000; text-decoration-color: #008000\">'Blue Cross Blue Shield'</span>, <span style=\"color: #008000; text-decoration-color: #008000\">'Aetna'</span>, <span style=\"color: #008000; text-decoration-color: #008000\">'Cigna'</span>, \n",
       "<span style=\"color: #008000; text-decoration-color: #008000\">'UnitedHealth'</span><span style=\"font-weight: bold\">]}]</span>\n",
       "</pre>\n"
      ],
      "text/plain": [
       "Observations: |\u001b[1m{\u001b[0m\u001b[32m'name'\u001b[0m: \u001b[32m'Dr. Sarah Mitchell'\u001b[0m, \u001b[32m'specialty'\u001b[0m: \u001b[32m'Cardiology'\u001b[0m, \u001b[32m'address'\u001b[0m: \u001b[1m{\u001b[0m\u001b[32m'street'\u001b[0m: \u001b[32m'1247 Medical Center\u001b[0m\n",
       "\u001b[32mDrive'\u001b[0m, \u001b[32m'city'\u001b[0m: \u001b[32m'Atlanta'\u001b[0m, \u001b[32m'state'\u001b[0m: \u001b[32m'GA'\u001b[0m, \u001b[32m'zip_code'\u001b[0m: \u001b[32m'30309'\u001b[0m\u001b[1m}\u001b[0m, \u001b[32m'phone'\u001b[0m: \u001b[32m'\u001b[0m\u001b[32m(\u001b[0m\u001b[32m404\u001b[0m\u001b[32m)\u001b[0m\u001b[32m 555-2847'\u001b[0m, \u001b[32m'email'\u001b[0m: \n",
       "\u001b[32m's.mitchell@atlantaheart.com'\u001b[0m, \u001b[32m'years_experience'\u001b[0m: \u001b[1;36m15\u001b[0m, \u001b[32m'board_certified'\u001b[0m: \u001b[32m'True'\u001b[0m, \u001b[32m'hospital_affiliations'\u001b[0m: |\u001b[32m'Emory \u001b[0m\n",
       "\u001b[32mUniversity Hospital'\u001b[0m, \u001b[32m'Piedmont Atlanta Hospital'\u001b[0m\u001b[1m]\u001b[0m, \u001b[32m'education'\u001b[0m: \u001b[1m{\u001b[0m\u001b[32m'medical_school'\u001b[0m: \u001b[32m'Duke University School of \u001b[0m\n",
       "\u001b[32mMedicine'\u001b[0m, \u001b[32m'residency'\u001b[0m: \u001b[32m'Johns Hopkins Hospital'\u001b[0m, \u001b[32m'fellowship'\u001b[0m: \u001b[32m'Cleveland Clinic'\u001b[0m\u001b[1m}\u001b[0m, \u001b[32m'languages'\u001b[0m: |\u001b[32m'English'\u001b[0m, \n",
       "\u001b[32m'Spanish'\u001b[0m\u001b[1m]\u001b[0m, \u001b[32m'accepts_new_patients'\u001b[0m: \u001b[32m'True'\u001b[0m, \u001b[32m'insurance_accepted'\u001b[0m: |\u001b[32m'Blue Cross Blue Shield'\u001b[0m, \u001b[32m'Aetna'\u001b[0m, \u001b[32m'Cigna'\u001b[0m, \n",
       "\u001b[32m'UnitedHealth'\u001b[0m\u001b[1m]\u001b[0m\u001b[1m}\u001b[0m\u001b[1m]\u001b[0m\n"
      ]
     },
     "metadata": {},
     "output_type": "display_data"
    },
    {
     "data": {
      "text/html": [
       "<pre style=\"white-space:pre;overflow-x:auto;line-height:normal;font-family:Menlo,'DejaVu Sans Mono',consolas,'Courier New',monospace\"><span style=\"color: #7f7f7f; text-decoration-color: #7f7f7f\">[Step 1: Duration 0.84 seconds| Input tokens: 1,372 | Output tokens: 20]</span>\n",
       "</pre>\n"
      ],
      "text/plain": [
       "\u001b[2m[Step 1: Duration 0.84 seconds| Input tokens: 1,372 | Output tokens: 20]\u001b[0m\n"
      ]
     },
     "metadata": {},
     "output_type": "display_data"
    },
    {
     "data": {
      "text/html": [
       "<pre style=\"white-space:pre;overflow-x:auto;line-height:normal;font-family:Menlo,'DejaVu Sans Mono',consolas,'Courier New',monospace\"><span style=\"color: #d4b702; text-decoration-color: #d4b702\">━━━━━━━━━━━━━━━━━━━━━━━━━━━━━━━━━━━━━━━━━━━━━━━━━━━━━ </span><span style=\"font-weight: bold\">Step </span><span style=\"color: #008080; text-decoration-color: #008080; font-weight: bold\">2</span><span style=\"color: #d4b702; text-decoration-color: #d4b702\"> ━━━━━━━━━━━━━━━━━━━━━━━━━━━━━━━━━━━━━━━━━━━━━━━━━━━━━━</span>\n",
       "</pre>\n"
      ],
      "text/plain": [
       "\u001b[38;2;212;183;2m━━━━━━━━━━━━━━━━━━━━━━━━━━━━━━━━━━━━━━━━━━━━━━━━━━━━━ \u001b[0m\u001b[1mStep \u001b[0m\u001b[1;36m2\u001b[0m\u001b[38;2;212;183;2m ━━━━━━━━━━━━━━━━━━━━━━━━━━━━━━━━━━━━━━━━━━━━━━━━━━━━━━\u001b[0m\n"
      ]
     },
     "metadata": {},
     "output_type": "display_data"
    },
    {
     "name": "stderr",
     "output_type": "stream",
     "text": [
      "INFO:     HTTP Request: POST http://localhost:8989/v1/chat/completions \"HTTP/1.1 200 OK\"\n"
     ]
    },
    {
     "data": {
      "text/html": [
       "<pre style=\"white-space:pre;overflow-x:auto;line-height:normal;font-family:Menlo,'DejaVu Sans Mono',consolas,'Courier New',monospace\">╭─────────────────────────────────────────────────────────────────────────────────────────────────────────────────╮\n",
       "│ Calling tool: 'final_answer' with arguments: {'answer': 'Dr. Sarah Mitchell is a Cardiologist located in        │\n",
       "│ Atlanta, GA. Her contact details are: (404) 555-2847, s.mitchell@atlantaheart.com, and Emory University         │\n",
       "│ Hospital. She accepts new patients and is affiliated with Piedmont Atlanta Hospital.'}                          │\n",
       "╰─────────────────────────────────────────────────────────────────────────────────────────────────────────────────╯\n",
       "</pre>\n"
      ],
      "text/plain": [
       "╭─────────────────────────────────────────────────────────────────────────────────────────────────────────────────╮\n",
       "│ Calling tool: 'final_answer' with arguments: {'answer': 'Dr. Sarah Mitchell is a Cardiologist located in        │\n",
       "│ Atlanta, GA. Her contact details are: (404) 555-2847, s.mitchell@atlantaheart.com, and Emory University         │\n",
       "│ Hospital. She accepts new patients and is affiliated with Piedmont Atlanta Hospital.'}                          │\n",
       "╰─────────────────────────────────────────────────────────────────────────────────────────────────────────────────╯\n"
      ]
     },
     "metadata": {},
     "output_type": "display_data"
    },
    {
     "data": {
      "text/html": [
       "<pre style=\"white-space:pre;overflow-x:auto;line-height:normal;font-family:Menlo,'DejaVu Sans Mono',consolas,'Courier New',monospace\"><span style=\"color: #d4b702; text-decoration-color: #d4b702; font-weight: bold\">Final answer: Dr. Sarah Mitchell is a Cardiologist located in Atlanta, GA. Her contact details are: (404) 555-2847,</span>\n",
       "<span style=\"color: #d4b702; text-decoration-color: #d4b702; font-weight: bold\">s.mitchell@atlantaheart.com, and Emory University Hospital. She accepts new patients and is affiliated with </span>\n",
       "<span style=\"color: #d4b702; text-decoration-color: #d4b702; font-weight: bold\">Piedmont Atlanta Hospital.</span>\n",
       "</pre>\n"
      ],
      "text/plain": [
       "\u001b[1;38;2;212;183;2mFinal answer: Dr. Sarah Mitchell is a Cardiologist located in Atlanta, GA. Her contact details are: (404) 555-2847,\u001b[0m\n",
       "\u001b[1;38;2;212;183;2ms.mitchell@atlantaheart.com, and Emory University Hospital. She accepts new patients and is affiliated with \u001b[0m\n",
       "\u001b[1;38;2;212;183;2mPiedmont Atlanta Hospital.\u001b[0m\n"
      ]
     },
     "metadata": {},
     "output_type": "display_data"
    },
    {
     "data": {
      "text/html": [
       "<pre style=\"white-space:pre;overflow-x:auto;line-height:normal;font-family:Menlo,'DejaVu Sans Mono',consolas,'Courier New',monospace\"><span style=\"color: #7f7f7f; text-decoration-color: #7f7f7f\">[Step 2: Duration 1.56 seconds| Input tokens: 3,084 | Output tokens: 123]</span>\n",
       "</pre>\n"
      ],
      "text/plain": [
       "\u001b[2m[Step 2: Duration 1.56 seconds| Input tokens: 3,084 | Output tokens: 123]\u001b[0m\n"
      ]
     },
     "metadata": {},
     "output_type": "display_data"
    },
    {
     "name": "stderr",
     "output_type": "stream",
     "text": [
      "INFO:     Run completed\n"
     ]
    },
    {
     "name": "stdout",
     "output_type": "stream",
     "text": [
      "INFO:     127.0.0.1:57080 - \"POST /runs HTTP/1.1\" 200 OK\n"
     ]
    }
   ],
   "source": [
    "# %%writefile ../my_acp_project/smolagents_server.py\n",
    "from collections.abc import AsyncGenerator\n",
    "from acp_sdk.models import Message, MessagePart\n",
    "from acp_sdk.server import RunYield, RunYieldResume, Server\n",
    "from smolagents import CodeAgent, DuckDuckGoSearchTool, LiteLLMModel, VisitWebpageTool, ToolCallingAgent, ToolCollection\n",
    "from mcp import StdioServerParameters\n",
    "\n",
    "import nest_asyncio\n",
    "nest_asyncio.apply()\n",
    "\n",
    "server = Server()\n",
    "\n",
    "# model = LiteLLMModel(\n",
    "#     model_id=\"openai/gpt-4\",  \n",
    "#     max_tokens=2048\n",
    "# )\n",
    "from smolagents import OpenAIServerModel\n",
    "\n",
    "# Configure the model to use LM Studio's local API endpoint\n",
    "model = OpenAIServerModel(\n",
    "    model_id= \"ibm-granite/granite-3.3-2b-instruct\",  # This can be any name, LM Studio will use whatever model you have loaded\n",
    "    api_base= f\"{INFERENCE_SERVER_URL}/v1\",  # Default LM Studio API endpoint\n",
    "    api_key=API_KEY # LM Studio doesn't require an API key by default\n",
    ")\n",
    "\n",
    "\n",
    "\n",
    "server_parameters = StdioServerParameters(\n",
    "    command=\"uv\",\n",
    "    args=[\"run\", \"mcpserver.py\"],\n",
    "    env=None,\n",
    ")\n",
    "\n",
    "@server.agent()\n",
    "async def health_agent(input: list[Message]) -> AsyncGenerator[RunYield, RunYieldResume]:\n",
    "    \"This is a CodeAgent which supports the hospital to handle health based questions for patients. Current or prospective patients can use it to find answers about their health and hospital treatments.\"\n",
    "    agent = CodeAgent(tools=[DuckDuckGoSearchTool(), VisitWebpageTool()], model=model)\n",
    "\n",
    "    prompt = input[0].parts[0].content\n",
    "    response = agent.run(prompt)\n",
    "\n",
    "    yield Message(parts=[MessagePart(content=str(response))])\n",
    "\n",
    "@server.agent()\n",
    "async def doctor_agent(input: list[Message]) -> AsyncGenerator[RunYield, RunYieldResume]:\n",
    "    \"This is a Doctor Agent which helps users find doctors near them.\"\n",
    "    with ToolCollection.from_mcp(server_parameters, trust_remote_code=True) as tool_collection:\n",
    "        agent = ToolCallingAgent(tools=[*tool_collection.tools], model=model)\n",
    "        prompt = input[0].parts[0].content\n",
    "        response = agent.run(prompt)\n",
    "\n",
    "    yield Message(parts=[MessagePart(content=str(response))])\n",
    "\n",
    "if __name__ == \"__main__\":\n",
    "    server.run(port=8003)"
   ]
  },
  {
   "cell_type": "markdown",
   "id": "733712a9-6817-4cbd-9f00-dd2ab595bc0c",
   "metadata": {},
   "source": [
    "## 9.3. Run the Hospital ACP x MCP Server"
   ]
  },
  {
   "cell_type": "markdown",
   "id": "98b60766",
   "metadata": {},
   "source": [
    "- Open the terminal by running the cell below.\n",
    "- If the agent is still running from the previous lessons, then you can stop it by typing `CTRL+C`.\n",
    "- Run the server again by typing:\n",
    "  - `uv run smolagents_server.py`"
   ]
  },
  {
   "cell_type": "markdown",
   "id": "89cd4177-2e6f-4206-a85c-3b4fd5ad6777",
   "metadata": {},
   "source": [
    "## 9.4. Call the ACPxMCP Server"
   ]
  },
  {
   "cell_type": "markdown",
   "id": "1294ae55",
   "metadata": {},
   "source": [
    "**Note: How to update the `my_acp_project` locally on your machine so you can enable MCP?**\n",
    "- cd `my_acp_project`\n",
    "- `uv add mcp smolagents[mcp]`"
   ]
  },
  {
   "cell_type": "markdown",
   "id": "f1704644",
   "metadata": {},
   "source": [
    "## 9.4. Resources"
   ]
  },
  {
   "cell_type": "markdown",
   "id": "d84026d8",
   "metadata": {},
   "source": [
    "- [Smolagents from mcp tool](https://huggingface.co/docs/smolagents/en/reference/tools#smolagents.ToolCollection.from_mcp)\n",
    "- [MCP short course](https://www.deeplearning.ai/short-courses/mcp-build-rich-context-ai-apps-with-anthropic/)\n",
    "- [MCP and A2A](https://agentcommunicationprotocol.dev/about/mcp-and-a2a)\n",
    "- [The doctors json file used accessed through the MCP server](https://raw.githubusercontent.com/nicknochnack/ACPWalkthrough/refs/heads/main/doctors.json)"
   ]
  },
  {
   "cell_type": "markdown",
   "id": "b47f97df",
   "metadata": {},
   "source": [
    "<p style=\"background-color:#fff6ff; padding:15px; border-width:3px; border-color:#efe6ef; border-style:solid; border-radius:6px\"> 💻 &nbsp; <b>To access the <code>my_acp_project</code> folder:</b> 1) click on the <em>\"File\"</em> option on the top menu of the notebook and then 2) click on <em>\"Open\"</em>. "
   ]
  },
  {
   "cell_type": "markdown",
   "id": "aa43bb70",
   "metadata": {},
   "source": [
    "<div style=\"background-color:#fff6ff; padding:13px; border-width:3px; border-color:#efe6ef; border-style:solid; border-radius:6px\">\n",
    "<p> ⬇ &nbsp; <b>Download Notebooks:</b> 1) click on the <em>\"File\"</em> option on the top menu of the notebook and then 2) click on <em>\"Download as\"</em> and select <em>\"Notebook (.ipynb)\"</em>.</p>\n",
    "</div>"
   ]
  }
 ],
 "metadata": {
  "kernelspec": {
   "display_name": "Python 3.11",
   "language": "python",
   "name": "python3"
  },
  "language_info": {
   "codemirror_mode": {
    "name": "ipython",
    "version": 3
   },
   "file_extension": ".py",
   "mimetype": "text/x-python",
   "name": "python",
   "nbconvert_exporter": "python",
   "pygments_lexer": "ipython3",
   "version": "3.11.9"
  }
 },
 "nbformat": 4,
 "nbformat_minor": 5
}
