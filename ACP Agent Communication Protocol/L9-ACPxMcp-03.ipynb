{
 "cells": [
  {
   "cell_type": "code",
   "execution_count": 1,
   "id": "adc4eeb4-e527-431f-9644-c4f3f5371679",
   "metadata": {},
   "outputs": [
    {
     "name": "stdout",
     "output_type": "stream",
     "text": [
      "\n",
      "\u001b[1m[\u001b[0m\u001b[34;49mnotice\u001b[0m\u001b[1;39;49m]\u001b[0m\u001b[39;49m A new release of pip is available: \u001b[0m\u001b[31;49m24.2\u001b[0m\u001b[39;49m -> \u001b[0m\u001b[32;49m25.1.1\u001b[0m\n",
      "\u001b[1m[\u001b[0m\u001b[34;49mnotice\u001b[0m\u001b[1;39;49m]\u001b[0m\u001b[39;49m To update, run: \u001b[0m\u001b[32;49mpip install --upgrade pip\u001b[0m\n"
     ]
    }
   ],
   "source": [
    "!pip install mcpadapt --quiet"
   ]
  },
  {
   "cell_type": "code",
   "execution_count": 2,
   "id": "04f56efb-d79d-490e-885e-86ec31a29c3f",
   "metadata": {},
   "outputs": [],
   "source": [
    "import asyncio\n",
    "import nest_asyncio\n",
    "from acp_sdk.client import Client\n",
    "from colorama import Fore \n",
    "\n",
    "nest_asyncio.apply() "
   ]
  },
  {
   "cell_type": "code",
   "execution_count": 3,
   "id": "aad64d9c-77ad-4ab5-b136-578cb8945e0d",
   "metadata": {},
   "outputs": [],
   "source": [
    "async def run_doctor_workflow() -> None:\n",
    "    async with Client(base_url=\"http://localhost:8003\") as hospital:\n",
    "        run1 = await hospital.run_sync(\n",
    "            agent=\"doctor_agent\", input=\"I'm based in Atlanta,GA. Are there any Cardiologists near me?\"\n",
    "        )\n",
    "        content = run1.output[0].parts[0].content\n",
    "        print(Fore.LIGHTMAGENTA_EX+ content + Fore.RESET)"
   ]
  },
  {
   "cell_type": "code",
   "execution_count": 4,
   "id": "f5e66d48-8ec7-45cd-ba75-90a6c1a47593",
   "metadata": {},
   "outputs": [
    {
     "name": "stdout",
     "output_type": "stream",
     "text": [
      "\u001b[95mYes, there is a Cardiologist near you. Dr. Sarah Mitchell is one such professional. She practices at Emory University Hospital and Piedmont Atlanta Hospital in Atlanta, GA.\u001b[39m\n"
     ]
    }
   ],
   "source": [
    "asyncio.run(run_doctor_workflow())"
   ]
  }
 ],
 "metadata": {
  "kernelspec": {
   "display_name": "Python 3.11",
   "language": "python",
   "name": "python3"
  },
  "language_info": {
   "codemirror_mode": {
    "name": "ipython",
    "version": 3
   },
   "file_extension": ".py",
   "mimetype": "text/x-python",
   "name": "python",
   "nbconvert_exporter": "python",
   "pygments_lexer": "ipython3",
   "version": "3.11.9"
  }
 },
 "nbformat": 4,
 "nbformat_minor": 5
}
