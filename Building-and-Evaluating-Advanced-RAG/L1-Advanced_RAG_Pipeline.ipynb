{
 "cells": [
  {
   "cell_type": "markdown",
   "id": "a9bff53e",
   "metadata": {},
   "source": [
    "# Lesson 1: Advanced RAG Pipeline"
   ]
  },
  {
   "cell_type": "code",
   "execution_count": null,
   "id": "c693b9db-8e11-40b9-b5f3-966bae3ea9df",
   "metadata": {},
   "outputs": [],
   "source": [
    "!pip install llama-index-core llama-index-utils-workflow  --quiet\n",
    "!pip install llama-index-llms-openai-like --quiet\n",
    "!pip install llama-index-embeddings-huggingface --quiet\n",
    "!pip install llama-index --quiet\n",
    "!pip install trulens trulens-eval trulens-providers-openai trulens-providers-litellm --quiet\n",
    "!pip install trulens-apps-llamaindex --quiet"
   ]
  },
  {
   "cell_type": "code",
   "execution_count": null,
   "id": "feb98470-c136-471d-a63e-d50d8eb09c57",
   "metadata": {
    "height": 98,
    "tags": []
   },
   "outputs": [],
   "source": [
    "import os"
   ]
  },
  {
   "cell_type": "code",
   "execution_count": null,
   "id": "31e2859b-596e-40b3-867b-f4d6e91f74bc",
   "metadata": {
    "height": 98,
    "tags": []
   },
   "outputs": [],
   "source": [
    "from llama_index.core import SimpleDirectoryReader\n",
    "\n",
    "documents = SimpleDirectoryReader(\n",
    "    \n",
    "    input_files=[\"./eBook-How-to-Build-a-Career-in-AI.pdf\"]\n",
    ").load_data()"
   ]
  },
  {
   "cell_type": "code",
   "execution_count": null,
   "id": "2d7d0857-b9d1-4feb-8243-bfd2f4953acd",
   "metadata": {
    "height": 81,
    "tags": []
   },
   "outputs": [],
   "source": [
    "print(type(documents), \"\\n\")\n",
    "print(len(documents), \"\\n\")\n",
    "print(type(documents[0]))\n",
    "print(documents[0])"
   ]
  },
  {
   "cell_type": "markdown",
   "id": "f3123d3d",
   "metadata": {},
   "source": [
    "## Basic RAG pipeline"
   ]
  },
  {
   "cell_type": "code",
   "execution_count": null,
   "id": "b4abc806-64f5-46bb-8c9f-6469ecb18d20",
   "metadata": {
    "height": 64,
    "tags": []
   },
   "outputs": [],
   "source": [
    "from llama_index.core import Document\n",
    "\n",
    "document = Document(text=\"\\n\\n\".join([doc.text for doc in documents]))"
   ]
  },
  {
   "cell_type": "code",
   "execution_count": null,
   "id": "71cc95d4-0e2e-4530-8746-8039f9226d0c",
   "metadata": {},
   "outputs": [],
   "source": [
    "import getpass\n",
    "import os\n",
    "\n",
    "INFERENCE_SERVER_URL = \"http://localhost:8989\"\n",
    "MODEL_NAME = \"ibm-granite/granite-3.3-2b-instruct\"\n",
    "API_KEY= \"alanliuxiang\"\n",
    "\n",
    "from llama_index.llms.openai_like import OpenAILike\n",
    "\n",
    "llm = OpenAILike(\n",
    "  model=MODEL_NAME,\n",
    "  api_key=API_KEY,\n",
    "  api_base= f\"{INFERENCE_SERVER_URL}/v1\",\n",
    "  context_window=1234,\n",
    "  is_chat_model=True,  # supports chat completions\n",
    "  is_function_calling_model=True # supports tools/functions in the api\n",
    ")\n"
   ]
  },
  {
   "cell_type": "code",
   "execution_count": null,
   "id": "5afb151f-c391-4b97-a070-301c577dbb36",
   "metadata": {},
   "outputs": [],
   "source": [
    "from llama_index.core import Settings\n",
    "from llama_index.embeddings.huggingface import HuggingFaceEmbedding\n",
    "from llama_index.core.node_parser import SentenceSplitter\n",
    "\n",
    "# embed_model = HuggingFaceEmbedding(model_name=\"BAAI/bge-small-en-v1.5\")\n",
    "embed_model = HuggingFaceEmbedding()\n",
    "\n",
    "Settings.llm = llm\n",
    "Settings.embed_model = embed_model\n",
    "Settings.node_parser = SentenceSplitter(chunk_size=512, chunk_overlap=20)\n",
    "Settings.num_output = 512\n",
    "Settings.context_window = 4096"
   ]
  },
  {
   "cell_type": "code",
   "execution_count": null,
   "id": "afc2baff-5e8b-4733-9899-16f248777b23",
   "metadata": {
    "height": 183,
    "tags": []
   },
   "outputs": [],
   "source": [
    "from llama_index.core import VectorStoreIndex\n",
    "index = VectorStoreIndex.from_documents(documents)"
   ]
  },
  {
   "cell_type": "code",
   "execution_count": null,
   "id": "ae52a26c-7d0c-44df-8043-4c7f19f794b9",
   "metadata": {
    "height": 30,
    "tags": []
   },
   "outputs": [],
   "source": [
    "query_engine = index.as_query_engine()"
   ]
  },
  {
   "cell_type": "code",
   "execution_count": null,
   "id": "6b0d5b6e-cc2e-4648-b28c-5fa25a97d175",
   "metadata": {
    "height": 81,
    "tags": []
   },
   "outputs": [],
   "source": [
    "response = query_engine.query(\n",
    "    \"What are steps to take when finding projects to build your experience?\"\n",
    ")\n",
    "print(str(response))"
   ]
  },
  {
   "cell_type": "markdown",
   "id": "e50a1ac5",
   "metadata": {},
   "source": [
    "## Evaluation setup using TruLens"
   ]
  },
  {
   "cell_type": "code",
   "execution_count": null,
   "id": "0ead7dc1-71b2-4001-918f-bf8d610fd3fd",
   "metadata": {
    "height": 132,
    "tags": []
   },
   "outputs": [],
   "source": [
    "eval_questions = []\n",
    "with open('eval_questions.txt', 'r') as file:\n",
    "    for line in file:\n",
    "        # Remove newline character and convert to integer\n",
    "        item = line.strip()\n",
    "        print(item)\n",
    "        eval_questions.append(item)"
   ]
  },
  {
   "cell_type": "code",
   "execution_count": null,
   "id": "87a278f8",
   "metadata": {
    "height": 64
   },
   "outputs": [],
   "source": [
    "# You can try your own question:\n",
    "new_question = \"What is the right AI job for me?\"\n",
    "eval_questions.append(new_question)"
   ]
  },
  {
   "cell_type": "code",
   "execution_count": null,
   "id": "8d5204e8",
   "metadata": {
    "height": 30
   },
   "outputs": [],
   "source": [
    "print(eval_questions)"
   ]
  },
  {
   "cell_type": "code",
   "execution_count": null,
   "id": "c063c9c7-bf1e-4b24-9a22-d4281c0f954e",
   "metadata": {
    "height": 81,
    "tags": []
   },
   "outputs": [],
   "source": [
    "from trulens_eval import Tru\n",
    "tru = Tru()\n",
    "\n",
    "tru.reset_database()"
   ]
  },
  {
   "cell_type": "code",
   "execution_count": null,
   "id": "4f754bed-d16f-4c8d-a1a1-b36096272570",
   "metadata": {
    "height": 81,
    "tags": []
   },
   "outputs": [],
   "source": [
    "from trulens.providers.openai import OpenAI\n",
    "from trulens_eval.feedback.provider.endpoint.openai import OpenAIClient\n",
    "from trulens_eval.utils.pyschema import Class\n",
    "import openai as oai\n",
    "\n",
    "# Define the client class and client kwargs\n",
    "client_cls = Class.of_class(oai.OpenAI)\n",
    "client_kwargs = {\n",
    "    \"api_key\": \"alanliuxiang\",\n",
    "    \"base_url\": \"http://localhost:8989/v1\"\n",
    "}\n",
    "\n",
    "# Initialize the OpenAIClient with the custom base URL\n",
    "client = OpenAIClient(client_cls=client_cls, client_kwargs=client_kwargs)\n",
    "\n",
    "provider = OpenAI(model_engine=MODEL_NAME,\n",
    "                  client=client,\n",
    ")"
   ]
  },
  {
   "cell_type": "markdown",
   "id": "0a77fdcb-0161-42e8-892d-339000584c05",
   "metadata": {},
   "source": [
    "1. Answer Relevance¶"
   ]
  },
  {
   "cell_type": "code",
   "execution_count": null,
   "id": "f91304be-aa96-4eaa-bf65-3065460e3dc1",
   "metadata": {},
   "outputs": [],
   "source": [
    "from trulens_eval import Feedback\n",
    "\n",
    "f_qa_relevance = Feedback(\n",
    "    provider.relevance_with_cot_reasons,\n",
    "    name=\"Answer Relevance\"\n",
    ").on_input_output()"
   ]
  },
  {
   "cell_type": "markdown",
   "id": "b0a585da-28a0-460b-8d8f-76c28f0e0131",
   "metadata": {},
   "source": [
    "2. Context Relevance¶"
   ]
  },
  {
   "cell_type": "code",
   "execution_count": null,
   "id": "14fde51c-ed5e-4da3-87a0-b3672ff3c3cb",
   "metadata": {},
   "outputs": [],
   "source": [
    "# from trulens_eval import TruLlama\n",
    "from trulens.apps.llamaindex import TruLlama\n",
    "\n",
    "context_selection = TruLlama.select_source_nodes().node.text"
   ]
  },
  {
   "cell_type": "code",
   "execution_count": null,
   "id": "8506c187-a550-42d4-861e-778fae9ff784",
   "metadata": {},
   "outputs": [],
   "source": [
    "import numpy as np\n",
    "\n",
    "f_qs_relevance = (\n",
    "    Feedback(provider.qs_relevance,\n",
    "             name=\"Context Relevance\")\n",
    "    .on_input()\n",
    "    .on(context_selection)\n",
    "    .aggregate(np.mean)\n",
    ")"
   ]
  },
  {
   "cell_type": "markdown",
   "id": "57b6ad80-8627-4137-8707-f33d597e2850",
   "metadata": {},
   "source": [
    "3. Groundedness"
   ]
  },
  {
   "cell_type": "code",
   "execution_count": null,
   "id": "ffd187cd-4770-42cc-9612-1afd247429cd",
   "metadata": {},
   "outputs": [],
   "source": [
    "from trulens.core import TruSession\n",
    "\n",
    "session = TruSession()\n",
    "session.reset_database()"
   ]
  },
  {
   "cell_type": "code",
   "execution_count": null,
   "id": "81645063-fd2a-458d-a90a-56245d9a71e8",
   "metadata": {},
   "outputs": [],
   "source": [
    "import pandas as pd\n",
    "\n",
    "data = {\n",
    "    \"query\": [\"what is AI?\"],\n",
    "    \"query_id\": [\"1\"],\n",
    "    \"expected_response\": [\"Artificial Intelligence\"],\n",
    "    \"expected_chunks\": [\n",
    "        [\n",
    "            {\n",
    "                \"text\": \"AI is the simulation of human intelligence processes by machines, especially computer systems.\",\n",
    "                \"title\": \"AI is not a bubble :(\",\n",
    "                \"expected_score\": 0.9,\n",
    "            },\n",
    "            {\n",
    "                \"text\": \"AI is the evil overlod that's going to rule over all human beings.\",\n",
    "                \"title\": \"AI should be feared\",\n",
    "                \"expected_score\": 0.4,\n",
    "            },\n",
    "            {\n",
    "                \"text\": \"AI is the future of humanity.\",\n",
    "                \"title\": \"AI is the future\",\n",
    "                \"expected_score\": 0.5,\n",
    "            },\n",
    "        ],\n",
    "    ],\n",
    "}\n",
    "\n",
    "df = pd.DataFrame(data)"
   ]
  },
  {
   "cell_type": "code",
   "execution_count": null,
   "id": "8977e4c1-d431-497e-84e9-971d367705f4",
   "metadata": {},
   "outputs": [],
   "source": [
    "session.add_ground_truth_to_dataset(\n",
    "    dataset_name=\"test_dataset_ir\",\n",
    "    ground_truth_df=df,\n",
    "    dataset_metadata={\"domain\": \"Random IR dataset\"},\n",
    ")"
   ]
  },
  {
   "cell_type": "code",
   "execution_count": null,
   "id": "4f62971c-3f5d-4c34-803d-75a3b7f111f0",
   "metadata": {},
   "outputs": [],
   "source": [
    "ground_truth_df = session.get_ground_truth(\"test_dataset_ir\")"
   ]
  },
  {
   "cell_type": "code",
   "execution_count": null,
   "id": "66c61749-0d2b-4388-8421-8285aa77737f",
   "metadata": {},
   "outputs": [],
   "source": [
    "from trulens_eval.feedback import GroundTruthAgreement\n",
    "\n",
    "grounded = GroundTruthAgreement(ground_truth_df,provider=provider)"
   ]
  },
  {
   "cell_type": "code",
   "execution_count": null,
   "id": "69bc65c5-bffa-43c7-b878-f1cb90efb0ee",
   "metadata": {},
   "outputs": [],
   "source": [
    "f_groundedness = (\n",
    "    Feedback(grounded.agreement_measure,\n",
    "             name=\"Groundedness\"\n",
    "            )\n",
    "    .on(context_selection)\n",
    "    .on_output()\n",
    "    # .aggregate(grounded.grounded_statements_aggregator)\n",
    ")"
   ]
  },
  {
   "cell_type": "code",
   "execution_count": null,
   "id": "8ae0b596-8181-4134-b570-f0162185c75f",
   "metadata": {},
   "outputs": [],
   "source": [
    "from trulens.apps.llamaindex import TruLlama\n",
    "\n",
    "tru_recorder = TruLlama(\n",
    "    # sentence_window_engine,\n",
    "    query_engine,\n",
    "    app_id=\"App_1\",\n",
    "    feedbacks=[\n",
    "        f_qa_relevance,\n",
    "        f_qs_relevance,\n",
    "        f_groundedness\n",
    "    ]\n",
    ")"
   ]
  },
  {
   "cell_type": "code",
   "execution_count": null,
   "id": "4dbdfbcc-aac7-4805-9894-4fc016c66bf6",
   "metadata": {
    "height": 64,
    "tags": []
   },
   "outputs": [],
   "source": [
    "with tru_recorder as recording:\n",
    "    for question in eval_questions:\n",
    "        response = query_engine.query(question)"
   ]
  },
  {
   "cell_type": "code",
   "execution_count": null,
   "id": "e14f512b-601c-42d0-bfac-bf41d9c577e7",
   "metadata": {
    "height": 30,
    "tags": []
   },
   "outputs": [],
   "source": [
    "records, feedback = tru.get_records_and_feedback(app_ids=[])"
   ]
  },
  {
   "cell_type": "code",
   "execution_count": null,
   "id": "2da4a602-0d56-4bf8-9fa6-03ef0b7e254b",
   "metadata": {
    "height": 30,
    "tags": []
   },
   "outputs": [],
   "source": [
    "records.head()"
   ]
  },
  {
   "cell_type": "code",
   "execution_count": null,
   "id": "64310897-179b-4081-aab8-f08a3392a078",
   "metadata": {
    "height": 47,
    "tags": []
   },
   "outputs": [],
   "source": [
    "# launches on http://localhost:8501/\n",
    "tru.run_dashboard()"
   ]
  },
  {
   "cell_type": "markdown",
   "id": "a4eedcef",
   "metadata": {},
   "source": [
    "## Advanced RAG pipeline"
   ]
  },
  {
   "cell_type": "markdown",
   "id": "9a17ea2b",
   "metadata": {},
   "source": [
    "### 1. Sentence Window retrieval"
   ]
  },
  {
   "cell_type": "code",
   "execution_count": null,
   "id": "f59e2314-7cac-42f4-a552-9a8e4db641eb",
   "metadata": {
    "height": 81,
    "tags": []
   },
   "outputs": [],
   "source": [
    "window_response = query_engine.query(\n",
    "    \"how do I get started on a personal project in AI?\"\n",
    ")\n",
    "print(str(window_response))"
   ]
  },
  {
   "cell_type": "code",
   "execution_count": null,
   "id": "b5c10917-8846-4e73-838d-6232c906a7db",
   "metadata": {
    "height": 115,
    "tags": []
   },
   "outputs": [],
   "source": [
    "tru.reset_database()\n",
    "\n",
    "from trulens.apps.llamaindex import TruLlama\n",
    "\n",
    "tru_recorder = TruLlama(\n",
    "    query_engine,\n",
    "    app_id=\"1-Sentence Window retrieval\",\n",
    "    feedbacks=[\n",
    "        f_qa_relevance,\n",
    "        f_qs_relevance,\n",
    "        f_groundedness\n",
    "    ]\n",
    ")"
   ]
  },
  {
   "cell_type": "code",
   "execution_count": null,
   "id": "9e98d6f6-0af2-42e2-8f04-2d624e554b40",
   "metadata": {},
   "outputs": [],
   "source": [
    "for question in eval_questions:\n",
    "    with tru_recorder as recording:\n",
    "        query_engine.query(question)"
   ]
  },
  {
   "cell_type": "code",
   "execution_count": null,
   "id": "869d1e55-729b-45f2-a0f9-773c49d4616f",
   "metadata": {
    "height": 30,
    "tags": []
   },
   "outputs": [],
   "source": [
    "tru.get_leaderboard(app_ids=[])"
   ]
  },
  {
   "cell_type": "code",
   "execution_count": null,
   "id": "0b92d0f2-2e80-48d5-92af-b3655eb03ea2",
   "metadata": {
    "height": 47,
    "tags": []
   },
   "outputs": [],
   "source": [
    "# launches on http://localhost:8501/\n",
    "tru.run_dashboard()"
   ]
  },
  {
   "cell_type": "code",
   "execution_count": null,
   "id": "95e134bc-dbd8-4c54-bfb4-0ad6a45e3af6",
   "metadata": {},
   "outputs": [],
   "source": [
    "# import os\n",
    "# os.environ[\"TENSORBOARD_PROXY_URL\"]= os.environ[\"NB_PREFIX\"]+\"/proxy/6006/\""
   ]
  },
  {
   "cell_type": "code",
   "execution_count": null,
   "id": "4563acb4-21d4-4dc5-959f-96fbdbe2457e",
   "metadata": {},
   "outputs": [],
   "source": [
    "# %load_ext tensorboard"
   ]
  },
  {
   "cell_type": "markdown",
   "id": "a92e2c55",
   "metadata": {},
   "source": [
    "### 2. Auto-merging retrieval"
   ]
  },
  {
   "cell_type": "code",
   "execution_count": null,
   "id": "2ad70c65-28c2-43c1-b0fb-c6dc2d7df27d",
   "metadata": {},
   "outputs": [],
   "source": [
    "from llama_index.core import Settings\n",
    "from llama_index.embeddings.huggingface import HuggingFaceEmbedding\n",
    "from llama_index.core.node_parser import SentenceSplitter\n",
    "\n",
    "# embed_model = HuggingFaceEmbedding(model_name=\"BAAI/bge-small-en-v1.5\")\n",
    "embed_model = HuggingFaceEmbedding()\n",
    "\n",
    "Settings.llm = llm\n",
    "Settings.embed_model = embed_model\n",
    "Settings.node_parser = SentenceSplitter(chunk_size=512, chunk_overlap=20)\n",
    "Settings.num_output = 512\n",
    "Settings.context_window = 4096"
   ]
  },
  {
   "cell_type": "code",
   "execution_count": null,
   "id": "8a6aa5eb-9f23-4912-a43a-829a1be3a97b",
   "metadata": {},
   "outputs": [],
   "source": [
    "from llama_index.core.node_parser import HierarchicalNodeParser\n",
    "from llama_index.core.node_parser import get_leaf_nodes, get_root_nodes\n",
    "from llama_index.core import Settings\n",
    "from llama_index.embeddings.huggingface import HuggingFaceEmbedding\n",
    "from llama_index.core.node_parser import SentenceSplitter\n",
    "from llama_index.core import StorageContext, load_index_from_storage\n",
    "\n",
    "save_dir=\"./merging_index\",\n",
    "chunk_sizes = [2048, 512, 128]\n",
    "node_parser = HierarchicalNodeParser.from_defaults(chunk_sizes=chunk_sizes)\n",
    "nodes = node_parser.get_nodes_from_documents(documents)\n",
    "leaf_nodes = get_leaf_nodes(nodes)\n",
    "\n",
    "\n",
    "embed_model = HuggingFaceEmbedding(model_name=\"BAAI/bge-small-en-v1.5\")\n",
    "# embed_model = HuggingFaceEmbedding()\n",
    "Settings.llm = llm\n",
    "Settings.embed_model = embed_model\n",
    "Settings.node_parser = node_parser\n",
    "Settings.num_output = 512\n",
    "Settings.context_window = 4096\n",
    "\n",
    "\n",
    "storage_context = StorageContext.from_defaults()\n",
    "storage_context.docstore.add_documents(nodes)\n",
    "\n",
    "if not os.path.exists(\"./merging_index\"):\n",
    "    automerging_index = VectorStoreIndex(\n",
    "        leaf_nodes, \n",
    "        storage_context=storage_context, \n",
    "    )\n",
    "    automerging_index.storage_context.persist(persist_dir=\"./merging_index\")\n",
    "else:\n",
    "    automerging_index = load_index_from_storage(\n",
    "        StorageContext.from_defaults(persist_dir=\"./merging_index\"),\n",
    "    )"
   ]
  },
  {
   "cell_type": "code",
   "execution_count": null,
   "id": "ebecf3b5-7128-41de-a41f-d1345b599db0",
   "metadata": {},
   "outputs": [],
   "source": [
    "from llama_index.core.retrievers import AutoMergingRetriever\n",
    "from llama_index.core.postprocessor import MetadataReplacementPostProcessor\n",
    "from llama_index.core.query_engine import RetrieverQueryEngine\n",
    "\n",
    "postproc = MetadataReplacementPostProcessor(target_metadata_key=\"window\")\n",
    "\n",
    "base_retriever = automerging_index.as_retriever(similarity_top_k=12)\n",
    "retriever = AutoMergingRetriever(\n",
    "    base_retriever, \n",
    "    automerging_index.storage_context,\n",
    "    verbose=True\n",
    ")\n",
    "\n",
    "auto_merging_engine = RetrieverQueryEngine.from_args(\n",
    "        retriever,  node_postprocessors=[\n",
    "        MetadataReplacementPostProcessor(target_metadata_key=\"window\")\n",
    "    ]\n",
    ")\n"
   ]
  },
  {
   "cell_type": "code",
   "execution_count": null,
   "id": "918ed568-220e-4c7c-aa60-cfa58ef1fcbd",
   "metadata": {
    "height": 81,
    "tags": []
   },
   "outputs": [],
   "source": [
    "auto_merging_response = auto_merging_engine.query(\n",
    "    \"How do I build a portfolio of AI projects?\"\n",
    ")\n",
    "print(str(auto_merging_response))"
   ]
  },
  {
   "cell_type": "code",
   "execution_count": null,
   "id": "079c0feb-181c-4343-8753-343d1049b64a",
   "metadata": {},
   "outputs": [],
   "source": [
    "tru.reset_database()\n",
    "\n",
    "from trulens.apps.llamaindex import TruLlama\n",
    "\n",
    "tru_recorder = TruLlama(\n",
    "    auto_merging_engine,\n",
    "    app_id=\"2-Auto-merging retrieval\",\n",
    "    feedbacks=[\n",
    "        f_qa_relevance,\n",
    "        f_qs_relevance,\n",
    "        f_groundedness\n",
    "    ]\n",
    ")"
   ]
  },
  {
   "cell_type": "code",
   "execution_count": null,
   "id": "20c9977e-6143-4bf5-9b6e-d90be025e537",
   "metadata": {},
   "outputs": [],
   "source": [
    "for question in eval_questions:\n",
    "    with tru_recorder as recording:\n",
    "        auto_merging_engine.query(question)"
   ]
  },
  {
   "cell_type": "code",
   "execution_count": null,
   "id": "5404dec1-60ca-42fa-ac13-793a5423aa64",
   "metadata": {
    "height": 30,
    "tags": []
   },
   "outputs": [],
   "source": [
    "tru.get_leaderboard(app_ids=[])"
   ]
  },
  {
   "cell_type": "code",
   "execution_count": null,
   "id": "0f545d41-0d98-446f-8214-8b59bef08d6c",
   "metadata": {
    "height": 47,
    "tags": []
   },
   "outputs": [],
   "source": [
    "# # launches on http://localhost:8501/\n",
    "tru.run_dashboard()"
   ]
  }
 ],
 "metadata": {
  "kernelspec": {
   "display_name": "Python 3.11",
   "language": "python",
   "name": "python3"
  },
  "language_info": {
   "codemirror_mode": {
    "name": "ipython",
    "version": 3
   },
   "file_extension": ".py",
   "mimetype": "text/x-python",
   "name": "python",
   "nbconvert_exporter": "python",
   "pygments_lexer": "ipython3",
   "version": "3.11.9"
  }
 },
 "nbformat": 4,
 "nbformat_minor": 5
}
