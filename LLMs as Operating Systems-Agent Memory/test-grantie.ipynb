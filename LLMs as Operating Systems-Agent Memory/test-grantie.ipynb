{
 "cells": [
  {
   "cell_type": "code",
   "execution_count": 1,
   "id": "ee2ce8de-08a3-463f-a28f-817e0a86f0ad",
   "metadata": {},
   "outputs": [],
   "source": [
    "import getpass\n",
    "import os\n",
    "from langchain_openai import ChatOpenAI\n",
    "from langchain_community.tools.tavily_search import TavilySearchResults\n",
    "from langchain.callbacks.streaming_stdout import StreamingStdOutCallbackHandler\n",
    "\n",
    "os.environ[\"TAVILY_API_KEY\"] = \"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\"\n",
    "os.environ['ATHINA_API_KEY'] = \"IhrJrr0krTMRA9ogqi5aaD4ZuYuvMcdG\"\n",
    "\n",
    "\n",
    "INFERENCE_SERVER_URL = \"http://localhost:8989\"\n",
    "# MODEL_NAME = \"deepseek-ai/DeepSeek-R1-Distill-Qwen-7B\"\n",
    "# MODEL_NAME = \"deepseek-ai/DeepSeek-R1-Distill-Qwen-14B\"\n",
    "MODEL_NAME = \"NousResearch/Meta-Llama-3-8B-Instruct\"\n",
    "API_KEY= \"alanliuxiang\"\n",
    "\n",
    "# client = ChatOpenAI(\n",
    "#     openai_api_key=API_KEY,\n",
    "#     openai_api_base= f\"{INFERENCE_SERVER_URL}/v1\",\n",
    "#     model_name=MODEL_NAME,\n",
    "#     top_p=0.92,\n",
    "#     temperature=0.01,\n",
    "#     max_tokens=512,\n",
    "#     presence_penalty=1.03,\n",
    "#     streaming=True,\n",
    "#     callbacks=[StreamingStdOutCallbackHandler()]\n",
    "# )\n",
    "\n",
    "from openai import OpenAI\n",
    "client = OpenAI(\n",
    "    base_url= f\"{INFERENCE_SERVER_URL}/v1\",\n",
    "    api_key=API_KEY,\n",
    ")\n"
   ]
  },
  {
   "cell_type": "code",
   "execution_count": 2,
   "id": "56df760d-0033-40f6-8fc9-500a73cdfbc5",
   "metadata": {},
   "outputs": [],
   "source": [
    "completion = client.chat.completions.create(\n",
    "  model=\"NousResearch/Meta-Llama-3-8B-Instruct\",\n",
    "  messages=[\n",
    "    {\"role\": \"user\", \"content\": [{\"type\": \"text\", \"text\": \"Classify this sentiment: vLLM is wonderful!\"}]}\n",
    "  ]\n",
    ")"
   ]
  },
  {
   "cell_type": "code",
   "execution_count": 3,
   "id": "970698f9-0f55-45a7-8f59-1e42a3f0ce41",
   "metadata": {},
   "outputs": [
    {
     "name": "stdout",
     "output_type": "stream",
     "text": [
      "ChatCompletionMessage(content='A short and sweet sentiment!\\n\\nI would classify this sentiment as:\\n\\n**POSITIVE**\\n\\nThe use of the word \"wonderful\" is a strong positive adjective, and the exclamation mark at the end adds to the enthusiastic and upbeat tone.', refusal=None, role='assistant', annotations=None, audio=None, function_call=None, tool_calls=[], reasoning_content=None)\n"
     ]
    }
   ],
   "source": [
    "# completion = client.chat.completions.create(\n",
    "#   model=\"NousResearch/Meta-Llama-3-8B-Instruct\",\n",
    "#   messages=[\n",
    "#     {\"role\": \"user\", \"content\": \"Hello!\"}\n",
    "#   ]\n",
    "# )\n",
    "\n",
    "print(completion.choices[0].message)"
   ]
  }
 ],
 "metadata": {
  "kernelspec": {
   "display_name": "Python 3.11",
   "language": "python",
   "name": "python3"
  },
  "language_info": {
   "codemirror_mode": {
    "name": "ipython",
    "version": 3
   },
   "file_extension": ".py",
   "mimetype": "text/x-python",
   "name": "python",
   "nbconvert_exporter": "python",
   "pygments_lexer": "ipython3",
   "version": "3.11.9"
  }
 },
 "nbformat": 4,
 "nbformat_minor": 5
}
